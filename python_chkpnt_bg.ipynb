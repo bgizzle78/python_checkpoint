{
 "cells": [
  {
   "cell_type": "markdown",
   "id": "3da3be8b",
   "metadata": {},
   "source": [
    "BEFORE YOU START\n",
    "\n",
    "Make a Markdown cell with the following statement:\n",
    "\n",
    "“Brandon, being of sane mind and sound body, did not use ChatGPT or any other AI/LLM to assist me on this assessment”"
   ]
  },
  {
   "cell_type": "code",
   "execution_count": 1,
   "id": "ef86980e",
   "metadata": {},
   "outputs": [],
   "source": [
    "# Import libraries\n",
    "import pandas as pd\n",
    "import matplotlib.pyplot as plt"
   ]
  },
  {
   "cell_type": "code",
   "execution_count": 2,
   "id": "fae9a0a5",
   "metadata": {},
   "outputs": [
    {
     "data": {
      "application/vnd.microsoft.datawrangler.viewer.v0+json": {
       "columns": [
        {
         "name": "index",
         "rawType": "int64",
         "type": "integer"
        },
        {
         "name": "show_id",
         "rawType": "object",
         "type": "string"
        },
        {
         "name": "type",
         "rawType": "object",
         "type": "string"
        },
        {
         "name": "title",
         "rawType": "object",
         "type": "string"
        },
        {
         "name": "director",
         "rawType": "object",
         "type": "unknown"
        },
        {
         "name": "cast",
         "rawType": "object",
         "type": "unknown"
        },
        {
         "name": "country",
         "rawType": "object",
         "type": "unknown"
        },
        {
         "name": "date_added",
         "rawType": "object",
         "type": "unknown"
        },
        {
         "name": "release_year",
         "rawType": "int64",
         "type": "integer"
        },
        {
         "name": "rating",
         "rawType": "object",
         "type": "unknown"
        },
        {
         "name": "duration",
         "rawType": "object",
         "type": "string"
        },
        {
         "name": "listed_in",
         "rawType": "object",
         "type": "string"
        },
        {
         "name": "description",
         "rawType": "object",
         "type": "string"
        }
       ],
       "ref": "a347457a-0331-45c5-81d3-13a4d27a49ae",
       "rows": [
        [
         "0",
         "s1",
         "Movie",
         "A Spark Story",
         "Jason Sterman, Leanne Dare",
         "Apthon Corbin, Louis Gonzales",
         null,
         "September 24, 2021",
         "2021",
         "TV-PG",
         "88 min",
         "Documentary",
         "Two Pixar filmmakers strive to bring their uniquely personal SparkShorts visions to the screen."
        ],
        [
         "1",
         "s2",
         "Movie",
         "Spooky Buddies",
         "Robert Vince",
         "Tucker Albrizzi, Diedrich Bader, Ameko Eks Mass Carroll, Max Charles, Tim Conway, Jennifer Elise Cox",
         "United States, Canada",
         "September 24, 2021",
         "2011",
         "G",
         "93 min",
         "Comedy, Fantasy, Kids",
         "The puppies go on a spooky adventure through a mysterious haunted mansion in this fur-raising flick."
        ],
        [
         "2",
         "s3",
         "Movie",
         "The Fault in Our Stars",
         "Josh Boone",
         "Shailene Woodley, Ansel Elgort, Laura Dern, Sam Trammell, Nat Wolff, Willem Dafoe",
         "United States",
         "September 24, 2021",
         "2014",
         "PG-13",
         "127 min",
         "Coming of Age, Drama, Romance",
         "Hazel and Gus share a love that sweeps them on an unforgettable journey."
        ],
        [
         "3",
         "s4",
         "TV Show",
         "Dog: Impossible",
         null,
         "Matt Beisner",
         "United States",
         "September 22, 2021",
         "2019",
         "TV-PG",
         "2 Seasons",
         "Animals & Nature, Docuseries, Family",
         "Matt Beisner uses unique approaches to modifying canine behavior and focuses on each animal’s needs."
        ],
        [
         "4",
         "s5",
         "TV Show",
         "Spidey And His Amazing Friends",
         null,
         "Benjamin Valic, Lily Sanfelippo, Jakari Fraser, Dee Bradley Baker, Melanie Minichino",
         "United States",
         "September 22, 2021",
         "2021",
         "TV-Y",
         "1 Season",
         "Action-Adventure, Animation, Kids",
         "Spidey teams up with pals to become The Spidey Team!"
        ],
        [
         "5",
         "s6",
         "TV Show",
         "Star Wars: Visions",
         null,
         null,
         null,
         "September 22, 2021",
         "2021",
         "TV-PG",
         "1 Season",
         "Action-Adventure, Animation, Anime",
         "An animated anthology celebrating Star Wars through the lens of the world’s best anime creators."
        ],
        [
         "6",
         "s7",
         "Movie",
         "Confessions of a Shopaholic",
         "P.J. Hogan",
         "Isla Fisher, Hugh Dancy, Joan Cusack, John Goodman, John Lithgow, Kristin Scott Thomas",
         "United States",
         "September 17, 2021",
         "2009",
         "PG",
         "106 min",
         "Comedy, Romance, Romantic Comedy",
         "Becky writes a personal finance column en route to a high-fashion mag job."
        ],
        [
         "7",
         "s8",
         "Movie",
         "Descendants: Royal Wedding",
         "Salvador Simó",
         "Dove Cameron, Sofia Carson, Booboo Stewart, Mitchell Hope, Sarah Jeffery, Melanie Paxson",
         null,
         "September 17, 2021",
         "2021",
         "TV-G",
         "22 min",
         "Animation, Fantasy, Musical",
         "Mal and Ben’s wedding is finally here!"
        ],
        [
         "8",
         "s9",
         "Movie",
         "Disney's Broadway Hits at London's Royal Albert Hall",
         "Jay Hatcher",
         "John Barrowman, Ashley Brown, Merle Dandridge, Trevor Dion Nicholas, Jade Ewen, Alton Fitzgerald White",
         null,
         "September 17, 2021",
         "2016",
         "TV-G",
         "116 min",
         "Concert Film",
         "Experience the magic of Disney on Broadway in an unforgettable night of music."
        ],
        [
         "9",
         "s10",
         "Movie",
         "Flooded Tombs of the Nile",
         "Katie Bauer Murdock",
         "Devin E. Haqq",
         null,
         "September 17, 2021",
         "2021",
         "TV-PG",
         "44 min",
         "Documentary",
         "Archaeologists dive into a pyramid flooded by the Nile to search for a king’s burial."
        ],
        [
         "10",
         "s11",
         "Movie",
         "Jade Eyed Leopard",
         null,
         "Jeremy Irons",
         null,
         "September 17, 2021",
         "2020",
         "TV-PG",
         "44 min",
         "Animals & Nature, Documentary",
         "Jade Eyed Leopard follows a leopard, Toto, throughout the first three years of her life."
        ],
        [
         "11",
         "s12",
         "Movie",
         "Nona",
         "Louis Gonzales",
         null,
         null,
         "September 17, 2021",
         "2021",
         "G",
         "9 min",
         "Animation, Comedy, Family",
         "A grandmother's plan for a day alone is upended by an unexpected visit from her granddaughter."
        ],
        [
         "12",
         "s13",
         "Movie",
         "Smoky Mountain Park Rangers",
         null,
         "Peter Jessop",
         null,
         "September 17, 2021",
         "2021",
         "TV-PG",
         "42 min",
         "Documentary",
         "Park Rangers protect the wildlife in Great Smoky Mountain National Park."
        ],
        [
         "13",
         "s14",
         "TV Show",
         "Life Below Zero",
         null,
         "Chip Hailstone, Agnes Hailstone, Sue Aikens, Andy Bassich",
         "United States",
         "September 15, 2021",
         "2012",
         "TV-14",
         "16 Seasons",
         "Action-Adventure, Animals & Nature, Docuseries",
         "Experience life deep in Alaska where the primal way lives on – brave the wild, fight the freeze."
        ],
        [
         "14",
         "s15",
         "TV Show",
         "Miraculous: Tales Of Ladybug & Cat Noir",
         null,
         "Cristina Vee, Bryce Papenbrook, Keith Silverstein, Mela Lee, Max Mittelman, Carrie Keranen",
         "France, South Korea, Japan, United States",
         "September 15, 2021",
         "2015",
         "TV-Y7",
         "1 Season",
         "Action-Adventure, Animation, Fantasy",
         "Superheroes Ladybug and Cat Noir protect the city."
        ],
        [
         "15",
         "s16",
         "TV Show",
         "Ready for Preschool",
         null,
         null,
         null,
         "September 15, 2021",
         "2019",
         "TV-Y",
         "1 Season",
         "Kids, Music",
         "The love of learning begins with Disney Junior!"
        ],
        [
         "16",
         "s17",
         "TV Show",
         "Unknown Waters with Jeremy Wade",
         null,
         "Jeremy Wade",
         null,
         "September 15, 2021",
         "2021",
         "TV-14",
         "1 Season",
         "Animals & Nature, Docuseries",
         "Angler and adventurer, Jeremy Wade, explores the greatest river system in the world."
        ],
        [
         "17",
         "s18",
         "Movie",
         "Far Away From Raven’s Home",
         null,
         "Raven-Symoné, Issac Ryan Brown, Navia Robinson, Jason Maybaum, Sky Katz, Anneliese van der Pol",
         null,
         "September 10, 2021",
         "2021",
         "TV-G",
         "11 min",
         "Comedy",
         "Our gang is off for an exotic vacation of a lifetime!"
        ],
        [
         "18",
         "s19",
         "Movie",
         "Pirates of the Caribbean: On Stranger Tides",
         "Rob Marshall",
         "Johnny Depp, Penélope Cruz, Ian McShane, Geoffrey Rush, Kevin R. McNally, Sam Claflin",
         "United States, United Kingdom",
         "September 10, 2021",
         "2011",
         "PG-13",
         "140 min",
         "Action-Adventure, Fantasy",
         "A woman from his past uses Jack to help find the fabled Fountain of Youth."
        ],
        [
         "19",
         "s20",
         "Movie",
         "Twenty Something",
         "Aphton Corbin",
         "Kaylin Price, Ariana Brown, Aliyah Taylor, Janelle LaSalle, Napoleon Highbrou",
         "United States",
         "September 10, 2021",
         "2021",
         "PG",
         "11 min",
         "Animation, Family",
         "Adulting is hard. One day you're nailing it, the next you're a stack of kids hiding in a trenchcoat."
        ],
        [
         "20",
         "s21",
         "TV Show",
         "Doogie Kamealoha, M.D.",
         null,
         "Peyton Elizabeth Lee, Emma Meisel, Matthew Sato, Wes Tian, Jeffrey Bowyer-Chapman, Mapuana Makia",
         "United States",
         "September 8, 2021",
         "2021",
         "TV-PG",
         "1 Season",
         "Comedy, Coming of Age, Family",
         "A 16-year-old prodigy juggles her budding medical career with the daily challenges of teenage life."
        ],
        [
         "21",
         "s22",
         "TV Show",
         "Mira, Royal Detective",
         null,
         "Leela Ladnier, Utkarsh Ambudkar, Roshni Edwards, Kal Penn, Kamran Lucas",
         "United States",
         "September 8, 2021",
         "2020",
         "TV-Y",
         "2 Seasons",
         "Animation, Fantasy, Kids",
         "Mira is the new royal detective in the land of Jalpur!"
        ],
        [
         "22",
         "s23",
         "TV Show",
         "Pepper Ann",
         null,
         "Kathleen Wilhoite, Clea Lewis, Danny Cooksey, Pamela Segall, April Winchell, Don Adams",
         "United States",
         "September 8, 2021",
         "1997",
         "TV-Y",
         "3 Seasons",
         "Animation, Comedy, Coming of Age",
         "Pepper Ann Pearson is a teenage girl on an eternal quest for coolness."
        ],
        [
         "23",
         "s24",
         "TV Show",
         "The Incredible Dr. Pol",
         null,
         "Rick Robles, Dr. Pol",
         "United States",
         "September 8, 2021",
         "2011",
         "TV-14",
         "19 Seasons",
         "Animals & Nature, Docuseries, Family",
         "Dr. Pol and his team handle challenging veterinary cases and animal emergencies in central Michigan."
        ],
        [
         "24",
         "s25",
         "Movie",
         "Happier Than Ever: A Love Letter to Los Angeles",
         "Robert Rodriguez, Patrick Osborne",
         "Billie Eilish, FINNEAS",
         "United States",
         "September 3, 2021",
         "2021",
         "TV-14",
         "66 min",
         "Concert Film, Music",
         "Billie Eilish makes her Disney+ debut with \"Happier Than Ever: A Love Letter to Los Angeles.\""
        ],
        [
         "25",
         "s26",
         "Movie",
         "Tomorrowland",
         "Brad Bird",
         "George Clooney, Hugh Laurie, Britt Robertson, Raffey Cassidy, Tim McGraw, Kathryn Hahn",
         "United States, Spain, France, Canada, United Kingdom",
         "September 3, 2021",
         "2015",
         "PG",
         "131 min",
         "Action-Adventure, Science Fiction",
         "A jaded genius and an optimistic teen unearth the secrets of Tomorrowland."
        ],
        [
         "26",
         "s27",
         "Movie",
         "X-Men: Dark Phoenix",
         "Simon Kinberg",
         "James McAvoy, Michael Fassbender, Jennifer Lawrence, Nicholas Hoult, Sophie Turner, Tye Sheridan",
         "United States, Canada",
         "September 3, 2021",
         "2019",
         "PG-13",
         "115 min",
         "Action-Adventure, Family, Science Fiction",
         "When Jean Grey transforms into the Dark Phoenix, the X-Men unite to face their greatest enemy yet."
        ],
        [
         "27",
         "s28",
         "TV Show",
         "Alaska Animal Rescue",
         null,
         "Victoria Vosburg",
         "United States",
         "September 1, 2021",
         "2019",
         "TV-PG",
         "2 Seasons",
         "Animals & Nature, Docuseries, Family",
         "Conservation heroes rescue and rehabilitate the wild animals of America’s last frontier."
        ],
        [
         "28",
         "s29",
         "TV Show",
         "Dug Days",
         null,
         "Bob Peterson, Ed Asner, Jordan Nagai",
         "United States",
         "September 1, 2021",
         "2021",
         "TV-PG",
         "1 Season",
         "Animation, Comedy, Family",
         "“Dug Days” is a collection of shorts that follows the adventures of Dug, the dog from Pixar’s “Up.”"
        ],
        [
         "29",
         "s30",
         "Movie",
         "Cruella",
         "Craig Gillespie",
         "Emma Stone, Emma Thompson, Joel Fry, Paul Walter Hauser, Emily Beecham, Kirby Howell-Baptiste",
         "United States, United Kingdom",
         "August 27, 2021",
         "2021",
         "PG-13",
         "137 min",
         "Crime, Drama",
         "Witness the origin of Disney’s most notorious and notoriously fashionable villain, Cruella de Vil."
        ],
        [
         "30",
         "s31",
         "Movie",
         "Dan in Real Life",
         "Peter Hedges",
         "Steve Carell, Juliette Binoche, Dane Cook, John Mahoney, Emily Blunt, Alison Pill",
         "United States",
         "August 27, 2021",
         "2007",
         "PG-13",
         "99 min",
         "Comedy, Drama, Romance",
         "A relationship expert falls in love with his brother's new girlfriend."
        ],
        [
         "31",
         "s32",
         "Movie",
         "Disney Princess Remixed - An Ultimate Princess Celebration",
         "Napoleon Dumo",
         "Txunamy Oriz, Natalie Peyser, Dara Reneé, Frankie Rodriguez, Julia Lester, Ruth Righi",
         null,
         "August 27, 2021",
         "2021",
         "TV-G",
         "22 min",
         "Family, Music, Variety",
         "Celebrate the timeless music of Disney Princess!"
        ],
        [
         "32",
         "s33",
         "Movie",
         "Marvel One-Shot: All Hail the King",
         "Drew Pearce",
         "Ben Kingsley, Scoot McNairy, Lester Speight, Sam Rockwell, Matt Gerald, Allen Maldonado",
         "United States",
         "August 27, 2021",
         "2014",
         "TV-14",
         "14 min",
         "Comedy, Drama, Thriller",
         "Locked up in prison, infamous icon Trevor Slattery agrees to meet with a documentary filmmaker."
        ],
        [
         "33",
         "s34",
         "Movie",
         "Underdog",
         "Frederik Du Chau",
         "Jason Lee, Amy Adams, Jim Belushi, Peter Dinklage, Patrick Warburton, Alex Neuberger",
         "United States",
         "August 27, 2021",
         "2007",
         "PG",
         "85 min",
         "Action-Adventure, Family, Parody",
         "A super-powered beagle tries to save Capital City from a mad scientist."
        ],
        [
         "34",
         "s35",
         "TV Show",
         "Dr. K's Exotic Animal ER",
         null,
         "Dr. Susan Kelleher, Art Edmonds",
         null,
         "August 25, 2021",
         "2014",
         "TV-14",
         "9 Seasons",
         "Animals & Nature, Docuseries, Family",
         "Dedicated veterinarians treat a colorful array of exotic pets in south Florida."
        ],
        [
         "35",
         "s36",
         "TV Show",
         "Gigantosaurus",
         null,
         "Dylan Schombing, Áine Sunderland, Nahanni Mitchell, Nicholas Holmes",
         "France",
         "August 25, 2021",
         "2018",
         "TV-Y",
         "2 Seasons",
         "Action-Adventure, Animation, Kids",
         "Four dinos explore the mystery of the Gigantosaurus!"
        ],
        [
         "36",
         "s37",
         "TV Show",
         "Life Below Zero: Next Generation",
         null,
         "Mocean Melvin",
         "United States",
         "August 25, 2021",
         "2020",
         "TV-14",
         "2 Seasons",
         "Action-Adventure, Animals & Nature, Docuseries",
         "The next generation of Alaskans struggle to survive without modern-day comforts."
        ],
        [
         "37",
         "s38",
         "Movie",
         "Eragon",
         "Stefen Fangmeier",
         "Ed Speleers, Jeremy Irons, Sienna Guillory, Robert Carlyle, John Malkovich, Garrett Hedlund",
         "United States, United Kingdom, Hungary",
         "August 20, 2021",
         "2006",
         "PG",
         "104 min",
         "Action-Adventure, Family, Fantasy",
         "In a mythical time, a teenage boy becomes a dragon rider and embarks on a journey of adventure."
        ],
        [
         "38",
         "s39",
         "TV Show",
         "Dr. Oakley, Yukon Vet",
         null,
         "Dr. Michelle Oakley, Zachary Fine",
         "United States",
         "August 18, 2021",
         "2013",
         "TV-PG",
         "9 Seasons",
         "Action-Adventure, Animals & Nature, Docuseries",
         "Meet Dr. Michelle Oakley, vet to pretty much everything that moves in the rugged Yukon."
        ],
        [
         "39",
         "s40",
         "TV Show",
         "Growing Up Animal",
         null,
         "Tracee Ellis Ross",
         null,
         "August 18, 2021",
         "2021",
         "TV-PG",
         "1 Season",
         "Animals & Nature, Docuseries, Family",
         "Magical stories of baby animals on the journey from womb to the wild."
        ],
        [
         "40",
         "s41",
         "Movie",
         "Aquamarine",
         "Elizabeth Allen Rosenbaum",
         "Jake McDorman, Arielle Kebbel, Claudia Karvan, Bruce Spence, Tammin Sursok, Roy Billing",
         "United States",
         "August 13, 2021",
         "2006",
         "PG",
         "104 min",
         "Comedy, Coming of Age, Fantasy",
         "Two 13-year-old best friends embark on an adventure when they discover a mermaid in a swimming pool."
        ],
        [
         "41",
         "s42",
         "Movie",
         "Fantastic Four",
         "Tim Story",
         "Ioan Gruffudd, Jessica Alba, Chris Evans, Michael Chiklis, Julian McMahon, Kerry Washington",
         "United States, Germany",
         "August 13, 2021",
         "2005",
         "PG-13",
         "106 min",
         "Action-Adventure, Family, Science Fiction",
         "Four astronauts develop superpowers and must join forces to protect mankind from doom."
        ],
        [
         "42",
         "s43",
         "Movie",
         "X-Men",
         "Bryan Singer",
         "Patrick Stewart, Hugh Jackman, Ian McKellen, Halle Berry, Famke Janssen, James Marsden",
         "United States",
         "August 13, 2021",
         "2000",
         "PG-13",
         "105 min",
         "Action-Adventure, Family, Science Fiction",
         "The X-Men, a small band of outcast mutants, fight to save a world that hates and fears them."
        ],
        [
         "43",
         "s44",
         "TV Show",
         "America's Funniest Home Videos: Animal Edition",
         null,
         "Alfonso Ribeiro",
         null,
         "August 11, 2021",
         "2021",
         "TV-PG",
         "1 Season",
         "Reality",
         "NatGeo meets AMERICA’S FUNNIEST HOME VIDEOS in a hilarious new animal show"
        ],
        [
         "44",
         "s45",
         "TV Show",
         "Chicken Squad",
         null,
         "Ramone Hamilton, Gabriella Graves, Maxwell Simkins, Yvette Nicole Brown",
         "United States",
         "August 11, 2021",
         "2021",
         "TV-Y",
         "1 Season",
         "Animation, Kids, Police/Cop",
         "BAGAWK! Say hello to the Chicken Squad."
        ],
        [
         "45",
         "s46",
         "TV Show",
         "Disney Presents Goofy in How to Stay at Home",
         null,
         "Bill Farmer, Corey Burton",
         null,
         "August 11, 2021",
         "2021",
         "TV-G",
         "1 Season",
         "Animation, Comedy, Family",
         "Goofy’s back in a trio of all-new, hand-drawn animated shorts from Walt Disney Animation Studios."
        ],
        [
         "46",
         "s47",
         "TV Show",
         "Gabby Duran And The Unsittables",
         null,
         "Kylie Cantrall, Maxwell Donovan, Callan Farris, Coco Christo, Valery Ortiz, Nathan Lovejoy",
         "United States",
         "August 11, 2021",
         "2018",
         "TV-G",
         "2 Seasons",
         "Comedy, Family, Science Fiction",
         "Meet Gabby Duran, your average alien-babysitting girl."
        ],
        [
         "47",
         "s48",
         "TV Show",
         "What If...?",
         null,
         null,
         null,
         "August 11, 2021",
         "2021",
         "TV-14",
         "1 Season",
         "Action-Adventure, Animation, Anthology",
         "“What If…?” flips the script on the MCU by reimagining events from the films in unexpected ways."
        ],
        [
         "48",
         "s49",
         "Movie",
         "Beverly Hills Chihuahua 2",
         "Alex Zamm",
         "George Lopez, Odette Yustman, Miguel Ferrer, Ernie Hudson, Loretta Devine, Jon Huertas",
         "United States",
         "August 6, 2021",
         "2011",
         "G",
         "88 min",
         "Action-Adventure, Comedy, Family",
         "Papi and Chloe, those talking Chihuahuas, are back... with a few surprises."
        ],
        [
         "49",
         "s50",
         "Movie",
         "Beverly Hills Chihuahua 3: Viva La Fiesta!",
         "Lev L. Spiro",
         "George Lopez, Odette Annable, Ernie Hudson, Miguel Ferrer, Kay Panabaker, Tom Kenny",
         "United States",
         "August 6, 2021",
         "2012",
         "G",
         "92 min",
         "Comedy, Coming of Age, Family",
         "Papi plans a \"Quince\" for the littlest member of his pack."
        ]
       ],
       "shape": {
        "columns": 12,
        "rows": 1368
       }
      },
      "text/html": [
       "<div>\n",
       "<style scoped>\n",
       "    .dataframe tbody tr th:only-of-type {\n",
       "        vertical-align: middle;\n",
       "    }\n",
       "\n",
       "    .dataframe tbody tr th {\n",
       "        vertical-align: top;\n",
       "    }\n",
       "\n",
       "    .dataframe thead th {\n",
       "        text-align: right;\n",
       "    }\n",
       "</style>\n",
       "<table border=\"1\" class=\"dataframe\">\n",
       "  <thead>\n",
       "    <tr style=\"text-align: right;\">\n",
       "      <th></th>\n",
       "      <th>show_id</th>\n",
       "      <th>type</th>\n",
       "      <th>title</th>\n",
       "      <th>director</th>\n",
       "      <th>cast</th>\n",
       "      <th>country</th>\n",
       "      <th>date_added</th>\n",
       "      <th>release_year</th>\n",
       "      <th>rating</th>\n",
       "      <th>duration</th>\n",
       "      <th>listed_in</th>\n",
       "      <th>description</th>\n",
       "    </tr>\n",
       "  </thead>\n",
       "  <tbody>\n",
       "    <tr>\n",
       "      <th>0</th>\n",
       "      <td>s1</td>\n",
       "      <td>Movie</td>\n",
       "      <td>A Spark Story</td>\n",
       "      <td>Jason Sterman, Leanne Dare</td>\n",
       "      <td>Apthon Corbin, Louis Gonzales</td>\n",
       "      <td>NaN</td>\n",
       "      <td>September 24, 2021</td>\n",
       "      <td>2021</td>\n",
       "      <td>TV-PG</td>\n",
       "      <td>88 min</td>\n",
       "      <td>Documentary</td>\n",
       "      <td>Two Pixar filmmakers strive to bring their uni...</td>\n",
       "    </tr>\n",
       "    <tr>\n",
       "      <th>1</th>\n",
       "      <td>s2</td>\n",
       "      <td>Movie</td>\n",
       "      <td>Spooky Buddies</td>\n",
       "      <td>Robert Vince</td>\n",
       "      <td>Tucker Albrizzi, Diedrich Bader, Ameko Eks Mas...</td>\n",
       "      <td>United States, Canada</td>\n",
       "      <td>September 24, 2021</td>\n",
       "      <td>2011</td>\n",
       "      <td>G</td>\n",
       "      <td>93 min</td>\n",
       "      <td>Comedy, Fantasy, Kids</td>\n",
       "      <td>The puppies go on a spooky adventure through a...</td>\n",
       "    </tr>\n",
       "    <tr>\n",
       "      <th>2</th>\n",
       "      <td>s3</td>\n",
       "      <td>Movie</td>\n",
       "      <td>The Fault in Our Stars</td>\n",
       "      <td>Josh Boone</td>\n",
       "      <td>Shailene Woodley, Ansel Elgort, Laura Dern, Sa...</td>\n",
       "      <td>United States</td>\n",
       "      <td>September 24, 2021</td>\n",
       "      <td>2014</td>\n",
       "      <td>PG-13</td>\n",
       "      <td>127 min</td>\n",
       "      <td>Coming of Age, Drama, Romance</td>\n",
       "      <td>Hazel and Gus share a love that sweeps them on...</td>\n",
       "    </tr>\n",
       "    <tr>\n",
       "      <th>3</th>\n",
       "      <td>s4</td>\n",
       "      <td>TV Show</td>\n",
       "      <td>Dog: Impossible</td>\n",
       "      <td>NaN</td>\n",
       "      <td>Matt Beisner</td>\n",
       "      <td>United States</td>\n",
       "      <td>September 22, 2021</td>\n",
       "      <td>2019</td>\n",
       "      <td>TV-PG</td>\n",
       "      <td>2 Seasons</td>\n",
       "      <td>Animals &amp; Nature, Docuseries, Family</td>\n",
       "      <td>Matt Beisner uses unique approaches to modifyi...</td>\n",
       "    </tr>\n",
       "    <tr>\n",
       "      <th>4</th>\n",
       "      <td>s5</td>\n",
       "      <td>TV Show</td>\n",
       "      <td>Spidey And His Amazing Friends</td>\n",
       "      <td>NaN</td>\n",
       "      <td>Benjamin Valic, Lily Sanfelippo, Jakari Fraser...</td>\n",
       "      <td>United States</td>\n",
       "      <td>September 22, 2021</td>\n",
       "      <td>2021</td>\n",
       "      <td>TV-Y</td>\n",
       "      <td>1 Season</td>\n",
       "      <td>Action-Adventure, Animation, Kids</td>\n",
       "      <td>Spidey teams up with pals to become The Spidey...</td>\n",
       "    </tr>\n",
       "    <tr>\n",
       "      <th>...</th>\n",
       "      <td>...</td>\n",
       "      <td>...</td>\n",
       "      <td>...</td>\n",
       "      <td>...</td>\n",
       "      <td>...</td>\n",
       "      <td>...</td>\n",
       "      <td>...</td>\n",
       "      <td>...</td>\n",
       "      <td>...</td>\n",
       "      <td>...</td>\n",
       "      <td>...</td>\n",
       "      <td>...</td>\n",
       "    </tr>\n",
       "    <tr>\n",
       "      <th>1363</th>\n",
       "      <td>s1364</td>\n",
       "      <td>Movie</td>\n",
       "      <td>The Sword in the Stone</td>\n",
       "      <td>Wolfgang Reitherman</td>\n",
       "      <td>Sebastian Cabot, Karl Swenson, Rickie Sorensen...</td>\n",
       "      <td>United States</td>\n",
       "      <td>October 1, 2019</td>\n",
       "      <td>1963</td>\n",
       "      <td>G</td>\n",
       "      <td>80 min</td>\n",
       "      <td>Action-Adventure, Animation, Comedy</td>\n",
       "      <td>Merlin trains a young orphan who's destined to...</td>\n",
       "    </tr>\n",
       "    <tr>\n",
       "      <th>1364</th>\n",
       "      <td>s1365</td>\n",
       "      <td>Movie</td>\n",
       "      <td>Those Calloways</td>\n",
       "      <td>Norman Tokar</td>\n",
       "      <td>Brian Keith, Vera Miles, Brandon de Wilde, Wal...</td>\n",
       "      <td>United States</td>\n",
       "      <td>October 1, 2019</td>\n",
       "      <td>1965</td>\n",
       "      <td>PG</td>\n",
       "      <td>132 min</td>\n",
       "      <td>Animals &amp; Nature, Drama, Family</td>\n",
       "      <td>A strong-willed family struggles to establish ...</td>\n",
       "    </tr>\n",
       "    <tr>\n",
       "      <th>1365</th>\n",
       "      <td>s1366</td>\n",
       "      <td>TV Show</td>\n",
       "      <td>Disney Kirby Buckets</td>\n",
       "      <td>NaN</td>\n",
       "      <td>Jacob Bertrand, Mekai Curtis, Cade Sutton, Oli...</td>\n",
       "      <td>United States</td>\n",
       "      <td>NaN</td>\n",
       "      <td>2014</td>\n",
       "      <td>TV-Y7</td>\n",
       "      <td>3 Seasons</td>\n",
       "      <td>Action-Adventure, Comedy, Coming of Age</td>\n",
       "      <td>Welcome to Kirby's world! It's rude and sketchy.</td>\n",
       "    </tr>\n",
       "    <tr>\n",
       "      <th>1366</th>\n",
       "      <td>s1367</td>\n",
       "      <td>TV Show</td>\n",
       "      <td>Disney Mech-X4</td>\n",
       "      <td>NaN</td>\n",
       "      <td>Nathaniel Potvin, Raymond Cham, Kamran Lucas, ...</td>\n",
       "      <td>Canada</td>\n",
       "      <td>NaN</td>\n",
       "      <td>2016</td>\n",
       "      <td>TV-Y7</td>\n",
       "      <td>2 Seasons</td>\n",
       "      <td>Action-Adventure, Comedy, Science Fiction</td>\n",
       "      <td>Ryan discovers his ability to control a giant ...</td>\n",
       "    </tr>\n",
       "    <tr>\n",
       "      <th>1367</th>\n",
       "      <td>s1368</td>\n",
       "      <td>TV Show</td>\n",
       "      <td>Imagination Movers</td>\n",
       "      <td>NaN</td>\n",
       "      <td>Rich Collins, Dave Poche, Scott Durbin, Scott ...</td>\n",
       "      <td>United States</td>\n",
       "      <td>NaN</td>\n",
       "      <td>2008</td>\n",
       "      <td>TV-Y</td>\n",
       "      <td>3 Seasons</td>\n",
       "      <td>Kids, Music</td>\n",
       "      <td>Rock out with the Imagination Movers, Disney J...</td>\n",
       "    </tr>\n",
       "  </tbody>\n",
       "</table>\n",
       "<p>1368 rows × 12 columns</p>\n",
       "</div>"
      ],
      "text/plain": [
       "     show_id     type                           title  \\\n",
       "0         s1    Movie                   A Spark Story   \n",
       "1         s2    Movie                  Spooky Buddies   \n",
       "2         s3    Movie          The Fault in Our Stars   \n",
       "3         s4  TV Show                 Dog: Impossible   \n",
       "4         s5  TV Show  Spidey And His Amazing Friends   \n",
       "...      ...      ...                             ...   \n",
       "1363   s1364    Movie          The Sword in the Stone   \n",
       "1364   s1365    Movie                 Those Calloways   \n",
       "1365   s1366  TV Show            Disney Kirby Buckets   \n",
       "1366   s1367  TV Show                  Disney Mech-X4   \n",
       "1367   s1368  TV Show              Imagination Movers   \n",
       "\n",
       "                        director  \\\n",
       "0     Jason Sterman, Leanne Dare   \n",
       "1                   Robert Vince   \n",
       "2                     Josh Boone   \n",
       "3                            NaN   \n",
       "4                            NaN   \n",
       "...                          ...   \n",
       "1363         Wolfgang Reitherman   \n",
       "1364                Norman Tokar   \n",
       "1365                         NaN   \n",
       "1366                         NaN   \n",
       "1367                         NaN   \n",
       "\n",
       "                                                   cast  \\\n",
       "0                         Apthon Corbin, Louis Gonzales   \n",
       "1     Tucker Albrizzi, Diedrich Bader, Ameko Eks Mas...   \n",
       "2     Shailene Woodley, Ansel Elgort, Laura Dern, Sa...   \n",
       "3                                          Matt Beisner   \n",
       "4     Benjamin Valic, Lily Sanfelippo, Jakari Fraser...   \n",
       "...                                                 ...   \n",
       "1363  Sebastian Cabot, Karl Swenson, Rickie Sorensen...   \n",
       "1364  Brian Keith, Vera Miles, Brandon de Wilde, Wal...   \n",
       "1365  Jacob Bertrand, Mekai Curtis, Cade Sutton, Oli...   \n",
       "1366  Nathaniel Potvin, Raymond Cham, Kamran Lucas, ...   \n",
       "1367  Rich Collins, Dave Poche, Scott Durbin, Scott ...   \n",
       "\n",
       "                    country          date_added  release_year rating  \\\n",
       "0                       NaN  September 24, 2021          2021  TV-PG   \n",
       "1     United States, Canada  September 24, 2021          2011      G   \n",
       "2             United States  September 24, 2021          2014  PG-13   \n",
       "3             United States  September 22, 2021          2019  TV-PG   \n",
       "4             United States  September 22, 2021          2021   TV-Y   \n",
       "...                     ...                 ...           ...    ...   \n",
       "1363          United States     October 1, 2019          1963      G   \n",
       "1364          United States     October 1, 2019          1965     PG   \n",
       "1365          United States                 NaN          2014  TV-Y7   \n",
       "1366                 Canada                 NaN          2016  TV-Y7   \n",
       "1367          United States                 NaN          2008   TV-Y   \n",
       "\n",
       "       duration                                  listed_in  \\\n",
       "0        88 min                                Documentary   \n",
       "1        93 min                      Comedy, Fantasy, Kids   \n",
       "2       127 min              Coming of Age, Drama, Romance   \n",
       "3     2 Seasons       Animals & Nature, Docuseries, Family   \n",
       "4      1 Season          Action-Adventure, Animation, Kids   \n",
       "...         ...                                        ...   \n",
       "1363     80 min        Action-Adventure, Animation, Comedy   \n",
       "1364    132 min            Animals & Nature, Drama, Family   \n",
       "1365  3 Seasons    Action-Adventure, Comedy, Coming of Age   \n",
       "1366  2 Seasons  Action-Adventure, Comedy, Science Fiction   \n",
       "1367  3 Seasons                                Kids, Music   \n",
       "\n",
       "                                            description  \n",
       "0     Two Pixar filmmakers strive to bring their uni...  \n",
       "1     The puppies go on a spooky adventure through a...  \n",
       "2     Hazel and Gus share a love that sweeps them on...  \n",
       "3     Matt Beisner uses unique approaches to modifyi...  \n",
       "4     Spidey teams up with pals to become The Spidey...  \n",
       "...                                                 ...  \n",
       "1363  Merlin trains a young orphan who's destined to...  \n",
       "1364  A strong-willed family struggles to establish ...  \n",
       "1365   Welcome to Kirby's world! It's rude and sketchy.  \n",
       "1366  Ryan discovers his ability to control a giant ...  \n",
       "1367  Rock out with the Imagination Movers, Disney J...  \n",
       "\n",
       "[1368 rows x 12 columns]"
      ]
     },
     "execution_count": 2,
     "metadata": {},
     "output_type": "execute_result"
    }
   ],
   "source": [
    "# Read in csv file\n",
    "disney = pd.read_csv('../python_checkpoint/disney_plus (1).csv')\n",
    "disney"
   ]
  },
  {
   "cell_type": "markdown",
   "id": "645acf29",
   "metadata": {},
   "source": [
    "1) Create a new dataframe named \"movies_df\" consisting of only movies."
   ]
  },
  {
   "cell_type": "code",
   "execution_count": 3,
   "id": "f8695a2d",
   "metadata": {},
   "outputs": [
    {
     "data": {
      "application/vnd.microsoft.datawrangler.viewer.v0+json": {
       "columns": [
        {
         "name": "index",
         "rawType": "int64",
         "type": "integer"
        },
        {
         "name": "show_id",
         "rawType": "object",
         "type": "string"
        },
        {
         "name": "type",
         "rawType": "object",
         "type": "string"
        },
        {
         "name": "title",
         "rawType": "object",
         "type": "string"
        },
        {
         "name": "director",
         "rawType": "object",
         "type": "unknown"
        },
        {
         "name": "cast",
         "rawType": "object",
         "type": "unknown"
        },
        {
         "name": "country",
         "rawType": "object",
         "type": "unknown"
        },
        {
         "name": "date_added",
         "rawType": "object",
         "type": "string"
        },
        {
         "name": "release_year",
         "rawType": "int64",
         "type": "integer"
        },
        {
         "name": "rating",
         "rawType": "object",
         "type": "unknown"
        },
        {
         "name": "duration",
         "rawType": "object",
         "type": "string"
        },
        {
         "name": "listed_in",
         "rawType": "object",
         "type": "string"
        },
        {
         "name": "description",
         "rawType": "object",
         "type": "string"
        }
       ],
       "ref": "8f872ab0-f5fd-4fbe-aaa1-addf51dab05b",
       "rows": [
        [
         "0",
         "s1",
         "Movie",
         "A Spark Story",
         "Jason Sterman, Leanne Dare",
         "Apthon Corbin, Louis Gonzales",
         null,
         "September 24, 2021",
         "2021",
         "TV-PG",
         "88 min",
         "Documentary",
         "Two Pixar filmmakers strive to bring their uniquely personal SparkShorts visions to the screen."
        ],
        [
         "1",
         "s2",
         "Movie",
         "Spooky Buddies",
         "Robert Vince",
         "Tucker Albrizzi, Diedrich Bader, Ameko Eks Mass Carroll, Max Charles, Tim Conway, Jennifer Elise Cox",
         "United States, Canada",
         "September 24, 2021",
         "2011",
         "G",
         "93 min",
         "Comedy, Fantasy, Kids",
         "The puppies go on a spooky adventure through a mysterious haunted mansion in this fur-raising flick."
        ],
        [
         "2",
         "s3",
         "Movie",
         "The Fault in Our Stars",
         "Josh Boone",
         "Shailene Woodley, Ansel Elgort, Laura Dern, Sam Trammell, Nat Wolff, Willem Dafoe",
         "United States",
         "September 24, 2021",
         "2014",
         "PG-13",
         "127 min",
         "Coming of Age, Drama, Romance",
         "Hazel and Gus share a love that sweeps them on an unforgettable journey."
        ],
        [
         "6",
         "s7",
         "Movie",
         "Confessions of a Shopaholic",
         "P.J. Hogan",
         "Isla Fisher, Hugh Dancy, Joan Cusack, John Goodman, John Lithgow, Kristin Scott Thomas",
         "United States",
         "September 17, 2021",
         "2009",
         "PG",
         "106 min",
         "Comedy, Romance, Romantic Comedy",
         "Becky writes a personal finance column en route to a high-fashion mag job."
        ],
        [
         "7",
         "s8",
         "Movie",
         "Descendants: Royal Wedding",
         "Salvador Simó",
         "Dove Cameron, Sofia Carson, Booboo Stewart, Mitchell Hope, Sarah Jeffery, Melanie Paxson",
         null,
         "September 17, 2021",
         "2021",
         "TV-G",
         "22 min",
         "Animation, Fantasy, Musical",
         "Mal and Ben’s wedding is finally here!"
        ],
        [
         "8",
         "s9",
         "Movie",
         "Disney's Broadway Hits at London's Royal Albert Hall",
         "Jay Hatcher",
         "John Barrowman, Ashley Brown, Merle Dandridge, Trevor Dion Nicholas, Jade Ewen, Alton Fitzgerald White",
         null,
         "September 17, 2021",
         "2016",
         "TV-G",
         "116 min",
         "Concert Film",
         "Experience the magic of Disney on Broadway in an unforgettable night of music."
        ],
        [
         "9",
         "s10",
         "Movie",
         "Flooded Tombs of the Nile",
         "Katie Bauer Murdock",
         "Devin E. Haqq",
         null,
         "September 17, 2021",
         "2021",
         "TV-PG",
         "44 min",
         "Documentary",
         "Archaeologists dive into a pyramid flooded by the Nile to search for a king’s burial."
        ],
        [
         "10",
         "s11",
         "Movie",
         "Jade Eyed Leopard",
         null,
         "Jeremy Irons",
         null,
         "September 17, 2021",
         "2020",
         "TV-PG",
         "44 min",
         "Animals & Nature, Documentary",
         "Jade Eyed Leopard follows a leopard, Toto, throughout the first three years of her life."
        ],
        [
         "11",
         "s12",
         "Movie",
         "Nona",
         "Louis Gonzales",
         null,
         null,
         "September 17, 2021",
         "2021",
         "G",
         "9 min",
         "Animation, Comedy, Family",
         "A grandmother's plan for a day alone is upended by an unexpected visit from her granddaughter."
        ],
        [
         "12",
         "s13",
         "Movie",
         "Smoky Mountain Park Rangers",
         null,
         "Peter Jessop",
         null,
         "September 17, 2021",
         "2021",
         "TV-PG",
         "42 min",
         "Documentary",
         "Park Rangers protect the wildlife in Great Smoky Mountain National Park."
        ],
        [
         "17",
         "s18",
         "Movie",
         "Far Away From Raven’s Home",
         null,
         "Raven-Symoné, Issac Ryan Brown, Navia Robinson, Jason Maybaum, Sky Katz, Anneliese van der Pol",
         null,
         "September 10, 2021",
         "2021",
         "TV-G",
         "11 min",
         "Comedy",
         "Our gang is off for an exotic vacation of a lifetime!"
        ],
        [
         "18",
         "s19",
         "Movie",
         "Pirates of the Caribbean: On Stranger Tides",
         "Rob Marshall",
         "Johnny Depp, Penélope Cruz, Ian McShane, Geoffrey Rush, Kevin R. McNally, Sam Claflin",
         "United States, United Kingdom",
         "September 10, 2021",
         "2011",
         "PG-13",
         "140 min",
         "Action-Adventure, Fantasy",
         "A woman from his past uses Jack to help find the fabled Fountain of Youth."
        ],
        [
         "19",
         "s20",
         "Movie",
         "Twenty Something",
         "Aphton Corbin",
         "Kaylin Price, Ariana Brown, Aliyah Taylor, Janelle LaSalle, Napoleon Highbrou",
         "United States",
         "September 10, 2021",
         "2021",
         "PG",
         "11 min",
         "Animation, Family",
         "Adulting is hard. One day you're nailing it, the next you're a stack of kids hiding in a trenchcoat."
        ],
        [
         "24",
         "s25",
         "Movie",
         "Happier Than Ever: A Love Letter to Los Angeles",
         "Robert Rodriguez, Patrick Osborne",
         "Billie Eilish, FINNEAS",
         "United States",
         "September 3, 2021",
         "2021",
         "TV-14",
         "66 min",
         "Concert Film, Music",
         "Billie Eilish makes her Disney+ debut with \"Happier Than Ever: A Love Letter to Los Angeles.\""
        ],
        [
         "25",
         "s26",
         "Movie",
         "Tomorrowland",
         "Brad Bird",
         "George Clooney, Hugh Laurie, Britt Robertson, Raffey Cassidy, Tim McGraw, Kathryn Hahn",
         "United States, Spain, France, Canada, United Kingdom",
         "September 3, 2021",
         "2015",
         "PG",
         "131 min",
         "Action-Adventure, Science Fiction",
         "A jaded genius and an optimistic teen unearth the secrets of Tomorrowland."
        ],
        [
         "26",
         "s27",
         "Movie",
         "X-Men: Dark Phoenix",
         "Simon Kinberg",
         "James McAvoy, Michael Fassbender, Jennifer Lawrence, Nicholas Hoult, Sophie Turner, Tye Sheridan",
         "United States, Canada",
         "September 3, 2021",
         "2019",
         "PG-13",
         "115 min",
         "Action-Adventure, Family, Science Fiction",
         "When Jean Grey transforms into the Dark Phoenix, the X-Men unite to face their greatest enemy yet."
        ],
        [
         "29",
         "s30",
         "Movie",
         "Cruella",
         "Craig Gillespie",
         "Emma Stone, Emma Thompson, Joel Fry, Paul Walter Hauser, Emily Beecham, Kirby Howell-Baptiste",
         "United States, United Kingdom",
         "August 27, 2021",
         "2021",
         "PG-13",
         "137 min",
         "Crime, Drama",
         "Witness the origin of Disney’s most notorious and notoriously fashionable villain, Cruella de Vil."
        ],
        [
         "30",
         "s31",
         "Movie",
         "Dan in Real Life",
         "Peter Hedges",
         "Steve Carell, Juliette Binoche, Dane Cook, John Mahoney, Emily Blunt, Alison Pill",
         "United States",
         "August 27, 2021",
         "2007",
         "PG-13",
         "99 min",
         "Comedy, Drama, Romance",
         "A relationship expert falls in love with his brother's new girlfriend."
        ],
        [
         "31",
         "s32",
         "Movie",
         "Disney Princess Remixed - An Ultimate Princess Celebration",
         "Napoleon Dumo",
         "Txunamy Oriz, Natalie Peyser, Dara Reneé, Frankie Rodriguez, Julia Lester, Ruth Righi",
         null,
         "August 27, 2021",
         "2021",
         "TV-G",
         "22 min",
         "Family, Music, Variety",
         "Celebrate the timeless music of Disney Princess!"
        ],
        [
         "32",
         "s33",
         "Movie",
         "Marvel One-Shot: All Hail the King",
         "Drew Pearce",
         "Ben Kingsley, Scoot McNairy, Lester Speight, Sam Rockwell, Matt Gerald, Allen Maldonado",
         "United States",
         "August 27, 2021",
         "2014",
         "TV-14",
         "14 min",
         "Comedy, Drama, Thriller",
         "Locked up in prison, infamous icon Trevor Slattery agrees to meet with a documentary filmmaker."
        ],
        [
         "33",
         "s34",
         "Movie",
         "Underdog",
         "Frederik Du Chau",
         "Jason Lee, Amy Adams, Jim Belushi, Peter Dinklage, Patrick Warburton, Alex Neuberger",
         "United States",
         "August 27, 2021",
         "2007",
         "PG",
         "85 min",
         "Action-Adventure, Family, Parody",
         "A super-powered beagle tries to save Capital City from a mad scientist."
        ],
        [
         "37",
         "s38",
         "Movie",
         "Eragon",
         "Stefen Fangmeier",
         "Ed Speleers, Jeremy Irons, Sienna Guillory, Robert Carlyle, John Malkovich, Garrett Hedlund",
         "United States, United Kingdom, Hungary",
         "August 20, 2021",
         "2006",
         "PG",
         "104 min",
         "Action-Adventure, Family, Fantasy",
         "In a mythical time, a teenage boy becomes a dragon rider and embarks on a journey of adventure."
        ],
        [
         "40",
         "s41",
         "Movie",
         "Aquamarine",
         "Elizabeth Allen Rosenbaum",
         "Jake McDorman, Arielle Kebbel, Claudia Karvan, Bruce Spence, Tammin Sursok, Roy Billing",
         "United States",
         "August 13, 2021",
         "2006",
         "PG",
         "104 min",
         "Comedy, Coming of Age, Fantasy",
         "Two 13-year-old best friends embark on an adventure when they discover a mermaid in a swimming pool."
        ],
        [
         "41",
         "s42",
         "Movie",
         "Fantastic Four",
         "Tim Story",
         "Ioan Gruffudd, Jessica Alba, Chris Evans, Michael Chiklis, Julian McMahon, Kerry Washington",
         "United States, Germany",
         "August 13, 2021",
         "2005",
         "PG-13",
         "106 min",
         "Action-Adventure, Family, Science Fiction",
         "Four astronauts develop superpowers and must join forces to protect mankind from doom."
        ],
        [
         "42",
         "s43",
         "Movie",
         "X-Men",
         "Bryan Singer",
         "Patrick Stewart, Hugh Jackman, Ian McKellen, Halle Berry, Famke Janssen, James Marsden",
         "United States",
         "August 13, 2021",
         "2000",
         "PG-13",
         "105 min",
         "Action-Adventure, Family, Science Fiction",
         "The X-Men, a small band of outcast mutants, fight to save a world that hates and fears them."
        ],
        [
         "48",
         "s49",
         "Movie",
         "Beverly Hills Chihuahua 2",
         "Alex Zamm",
         "George Lopez, Odette Yustman, Miguel Ferrer, Ernie Hudson, Loretta Devine, Jon Huertas",
         "United States",
         "August 6, 2021",
         "2011",
         "G",
         "88 min",
         "Action-Adventure, Comedy, Family",
         "Papi and Chloe, those talking Chihuahuas, are back... with a few surprises."
        ],
        [
         "49",
         "s50",
         "Movie",
         "Beverly Hills Chihuahua 3: Viva La Fiesta!",
         "Lev L. Spiro",
         "George Lopez, Odette Annable, Ernie Hudson, Miguel Ferrer, Kay Panabaker, Tom Kenny",
         "United States",
         "August 6, 2021",
         "2012",
         "G",
         "92 min",
         "Comedy, Coming of Age, Family",
         "Papi plans a \"Quince\" for the littlest member of his pack."
        ],
        [
         "50",
         "s51",
         "Movie",
         "Killer Shark vs Killer Whale",
         null,
         "Edward Marcoux",
         null,
         "August 6, 2021",
         "2021",
         "TV-14",
         "44 min",
         "Animals & Nature, Documentary",
         "Orcas attack white sharks for their livers leaving scientists baffled."
        ],
        [
         "51",
         "s52",
         "Movie",
         "Mrs. Doubtfire",
         "Chris Columbus",
         "Robin Williams, Sally Field, Pierce Brosnan, Harvey Fierstein, Polly Holliday, Lisa Jakub",
         "United States",
         "August 6, 2021",
         "1993",
         "PG-13",
         "126 min",
         "Comedy, Drama",
         "An eccentric dad dresses as a British nanny so he can care for his kids at the home of their mother."
        ],
        [
         "55",
         "s56",
         "Movie",
         "Built for Mars: The Perseverance Rover",
         "Mark J Davis",
         "Steven French",
         null,
         "July 30, 2021",
         "2021",
         "TV-PG",
         "88 min",
         "Documentary",
         "BUILT FOR MARS: THE PERSEVERANCE ROVER follows the birth of the Perseverance rover."
        ],
        [
         "56",
         "s57",
         "Movie",
         "Garfield",
         "Peter Hewitt",
         "Breckin Meyer, Jennifer Love Hewitt, Stephen Tobolowsky, Bill Murray, Evan Arnold, Mark Lawrence",
         "United States",
         "July 30, 2021",
         "2004",
         "PG",
         "82 min",
         "Comedy, Family",
         "Garfield lures Odie out of the house but once he's lost, Garfield springs into action to save him."
        ],
        [
         "63",
         "s64",
         "Movie",
         "Ice Age: The Meltdown",
         "Carlos Saldanha",
         "Ray Romano, John Leguizamo, Denis Leary, Seann William Scott, Josh Peck, Queen Latifah",
         "United States, United Kingdom, Australia",
         "July 23, 2021",
         "2006",
         "PG",
         "94 min",
         "Animation, Comedy, Family",
         "Manny, Sid, Diego and Scrat join forces with new friends to save the valley from an epic flood."
        ],
        [
         "64",
         "s65",
         "Movie",
         "Playing with Sharks",
         null,
         "Valerie Taylor, Dr. Sylvia Earle, Jeremiah Sullivan, Wendy Benchley, Jean Michel Cousteau, Michele Hall",
         null,
         "July 23, 2021",
         "2021",
         "TV-14",
         "91 min",
         "Animals & Nature, Biographical, Documentary",
         "\"Playing with Sharks\" captures the life of conservationist Valerie Taylor."
        ],
        [
         "65",
         "s66",
         "Movie",
         "Shark vs. Surfer",
         "Phil Stebbing",
         "Billy Lloyd",
         null,
         "July 23, 2021",
         "2020",
         "TV-14",
         "44 min",
         "Animals & Nature, Documentary",
         "Shark vs. Surfer visits shark-infested surf spots to relive the harrowing encounters."
        ],
        [
         "66",
         "s67",
         "Movie",
         "Shark vs. Whale",
         null,
         "Ted Stewart",
         null,
         "July 23, 2021",
         "2020",
         "TV-PG",
         "44 min",
         "Animals & Nature, Documentary",
         "Marine biologist Ryan Johnson discovers rare behavior of a whale attacking a great white."
        ],
        [
         "67",
         "s68",
         "Movie",
         "Stuntman",
         "Kurt Mattila",
         "Eddie Braun",
         null,
         "July 23, 2021",
         "2021",
         "TV-14",
         "87 min",
         "Documentary",
         "Stuntman Eddie Braun attempts to complete Evel Knievel's legendary Snake River Canyon rocket jump."
        ],
        [
         "68",
         "s69",
         "Movie",
         "Walking with Dinosaurs: The Movie",
         "Barry Cook, Neil Nightingale",
         "John Leguizamo, Justin Long, Tiya Sircar, Skyler Stone, Angourie Rice, Charlie Rowe",
         null,
         "July 23, 2021",
         "2013",
         "PG",
         "88 min",
         "Action-Adventure, Family, Fantasy",
         "A young dinosaur named Patchi must find his courage to lead the herd."
        ],
        [
         "69",
         "s70",
         "Movie",
         "What the Shark?",
         null,
         "Robert Davi",
         null,
         "July 23, 2021",
         "2020",
         "TV-PG",
         "44 min",
         "Animals & Nature, Documentary",
         "What the Shark? dives deep into the environments where adaptation is critical to survival."
        ],
        [
         "75",
         "s76",
         "Movie",
         "Most Wanted Sharks",
         null,
         null,
         null,
         "July 16, 2021",
         "2020",
         "TV-PG",
         "44 min",
         "Animals & Nature, Documentary",
         "In Most Wanted Sharks, Jeremiah Sullivan dives into the stories of shark all-stars."
        ],
        [
         "76",
         "s77",
         "Movie",
         "Secrets of the Bull Shark",
         null,
         "Keston John",
         null,
         "July 16, 2021",
         "2020",
         "TV-14",
         "44 min",
         "Animals & Nature, Documentary",
         "Secrets of the Bull Shark unravels the mystery of some of the most dangerous predators."
        ],
        [
         "78",
         "s79",
         "Movie",
         "Shark Attack Investigation: The Paige Winter Story",
         null,
         null,
         null,
         "July 16, 2021",
         "2021",
         "TV-14",
         "44 min",
         "Animals & Nature, Documentary",
         "A teen survives facing one of the ocean’s deadliest predators."
        ],
        [
         "79",
         "s80",
         "Movie",
         "Sharkcano",
         "Andy Seestedt",
         "Dan Nachtrab",
         null,
         "July 16, 2021",
         "2020",
         "TV-PG",
         "44 min",
         "Animals & Nature, Documentary",
         "Dr. Michael Heithaus sets out to reveal the connection between sharks and volcanoes."
        ],
        [
         "80",
         "s81",
         "Movie",
         "We Bought a Zoo",
         "Cameron Crowe",
         "Matt Damon, Scarlett Johansson, Thomas Haden Church, Patrick Fugit, Colin Ford, Elle Fanning",
         "United States",
         "July 16, 2021",
         "2011",
         "PG",
         "125 min",
         "Animals & Nature, Drama, Family",
         "A single dad tries to give his family a fresh start by moving to a home in the middle of a zoo."
        ],
        [
         "81",
         "s82",
         "Movie",
         "World's Biggest Bullshark",
         null,
         "Jason Hildebrandt",
         null,
         "July 16, 2021",
         "2021",
         "TV-PG",
         "44 min",
         "Animals & Nature, Documentary",
         "How one of the largest Bull Sharks ever caught, grew to become a giant."
        ],
        [
         "82",
         "s83",
         "Movie",
         "World's Most Dangerous Shark?",
         "Kevin Bachar",
         "Brain Cade",
         null,
         "July 16, 2021",
         "2021",
         "TV-14",
         "44 min",
         "Animals & Nature, Documentary",
         "Are Oceanic White Tips the most dangerous of all the sharks?"
        ],
        [
         "84",
         "s85",
         "Movie",
         "Flicka",
         "Michael Mayer",
         "Alison Lohman, Tim McGraw, Maria Bello, Ryan Kwanten, Danny Pino, Dallas Roberts",
         "United States, United Kingdom",
         "July 9, 2021",
         "2006",
         "PG",
         "95 min",
         "Animals & Nature, Coming of Age, Drama",
         "A 14-year-old girl befriends a wild filly and tries to rescue the horse from a rodeo entrepreneur."
        ],
        [
         "85",
         "s86",
         "Movie",
         "Miraculous World: Shanghai, The Legend of Ladydragon",
         "Thomas Astruc",
         "Cristina 'Vee\" Valenzuela, Bryce Papenbrook, Keith Silverstein, Carrie Keranen, Todd Haberkorn, Max Mittelman",
         null,
         "July 9, 2021",
         "2021",
         "TV-Y7-FV",
         "54 min",
         "Animation, Fantasy",
         "Marinette heads to Shanghai to meet Adrien."
        ],
        [
         "86",
         "s87",
         "Movie",
         "Orca vs. Great White",
         "Sigmund Spath Jr.",
         "Kina Scollay, Ingrid Visser, Ray Robertson",
         null,
         "July 9, 2021",
         "2021",
         "TV-14",
         "44 min",
         "Animals & Nature, Documentary",
         "Researchers investigate if orcas are hunting great whites in New Zealand."
        ],
        [
         "87",
         "s88",
         "Movie",
         "Rogue Shark?",
         "Mark Woodward",
         "Mocean Melvin",
         null,
         "July 9, 2021",
         "2021",
         "TV-14",
         "44 min",
         "Animals & Nature, Documentary",
         "A vacation hot spot is rocked by a series of shark attacks, chaos reigns."
        ],
        [
         "88",
         "s89",
         "Movie",
         "Shark Beach with Chris Hemsworth",
         "Sally Aitken",
         "Chris Hemsworth",
         "United States",
         "July 9, 2021",
         "2021",
         "TV-PG",
         "44 min",
         "Animals & Nature, Documentary",
         "Chris Hemsworth investigates how we can live harmoniously with sharks."
        ]
       ],
       "shape": {
        "columns": 12,
        "rows": 991
       }
      },
      "text/html": [
       "<div>\n",
       "<style scoped>\n",
       "    .dataframe tbody tr th:only-of-type {\n",
       "        vertical-align: middle;\n",
       "    }\n",
       "\n",
       "    .dataframe tbody tr th {\n",
       "        vertical-align: top;\n",
       "    }\n",
       "\n",
       "    .dataframe thead th {\n",
       "        text-align: right;\n",
       "    }\n",
       "</style>\n",
       "<table border=\"1\" class=\"dataframe\">\n",
       "  <thead>\n",
       "    <tr style=\"text-align: right;\">\n",
       "      <th></th>\n",
       "      <th>show_id</th>\n",
       "      <th>type</th>\n",
       "      <th>title</th>\n",
       "      <th>director</th>\n",
       "      <th>cast</th>\n",
       "      <th>country</th>\n",
       "      <th>date_added</th>\n",
       "      <th>release_year</th>\n",
       "      <th>rating</th>\n",
       "      <th>duration</th>\n",
       "      <th>listed_in</th>\n",
       "      <th>description</th>\n",
       "    </tr>\n",
       "  </thead>\n",
       "  <tbody>\n",
       "    <tr>\n",
       "      <th>0</th>\n",
       "      <td>s1</td>\n",
       "      <td>Movie</td>\n",
       "      <td>A Spark Story</td>\n",
       "      <td>Jason Sterman, Leanne Dare</td>\n",
       "      <td>Apthon Corbin, Louis Gonzales</td>\n",
       "      <td>NaN</td>\n",
       "      <td>September 24, 2021</td>\n",
       "      <td>2021</td>\n",
       "      <td>TV-PG</td>\n",
       "      <td>88 min</td>\n",
       "      <td>Documentary</td>\n",
       "      <td>Two Pixar filmmakers strive to bring their uni...</td>\n",
       "    </tr>\n",
       "    <tr>\n",
       "      <th>1</th>\n",
       "      <td>s2</td>\n",
       "      <td>Movie</td>\n",
       "      <td>Spooky Buddies</td>\n",
       "      <td>Robert Vince</td>\n",
       "      <td>Tucker Albrizzi, Diedrich Bader, Ameko Eks Mas...</td>\n",
       "      <td>United States, Canada</td>\n",
       "      <td>September 24, 2021</td>\n",
       "      <td>2011</td>\n",
       "      <td>G</td>\n",
       "      <td>93 min</td>\n",
       "      <td>Comedy, Fantasy, Kids</td>\n",
       "      <td>The puppies go on a spooky adventure through a...</td>\n",
       "    </tr>\n",
       "    <tr>\n",
       "      <th>2</th>\n",
       "      <td>s3</td>\n",
       "      <td>Movie</td>\n",
       "      <td>The Fault in Our Stars</td>\n",
       "      <td>Josh Boone</td>\n",
       "      <td>Shailene Woodley, Ansel Elgort, Laura Dern, Sa...</td>\n",
       "      <td>United States</td>\n",
       "      <td>September 24, 2021</td>\n",
       "      <td>2014</td>\n",
       "      <td>PG-13</td>\n",
       "      <td>127 min</td>\n",
       "      <td>Coming of Age, Drama, Romance</td>\n",
       "      <td>Hazel and Gus share a love that sweeps them on...</td>\n",
       "    </tr>\n",
       "    <tr>\n",
       "      <th>6</th>\n",
       "      <td>s7</td>\n",
       "      <td>Movie</td>\n",
       "      <td>Confessions of a Shopaholic</td>\n",
       "      <td>P.J. Hogan</td>\n",
       "      <td>Isla Fisher, Hugh Dancy, Joan Cusack, John Goo...</td>\n",
       "      <td>United States</td>\n",
       "      <td>September 17, 2021</td>\n",
       "      <td>2009</td>\n",
       "      <td>PG</td>\n",
       "      <td>106 min</td>\n",
       "      <td>Comedy, Romance, Romantic Comedy</td>\n",
       "      <td>Becky writes a personal finance column en rout...</td>\n",
       "    </tr>\n",
       "    <tr>\n",
       "      <th>7</th>\n",
       "      <td>s8</td>\n",
       "      <td>Movie</td>\n",
       "      <td>Descendants: Royal Wedding</td>\n",
       "      <td>Salvador Simó</td>\n",
       "      <td>Dove Cameron, Sofia Carson, Booboo Stewart, Mi...</td>\n",
       "      <td>NaN</td>\n",
       "      <td>September 17, 2021</td>\n",
       "      <td>2021</td>\n",
       "      <td>TV-G</td>\n",
       "      <td>22 min</td>\n",
       "      <td>Animation, Fantasy, Musical</td>\n",
       "      <td>Mal and Ben’s wedding is finally here!</td>\n",
       "    </tr>\n",
       "    <tr>\n",
       "      <th>...</th>\n",
       "      <td>...</td>\n",
       "      <td>...</td>\n",
       "      <td>...</td>\n",
       "      <td>...</td>\n",
       "      <td>...</td>\n",
       "      <td>...</td>\n",
       "      <td>...</td>\n",
       "      <td>...</td>\n",
       "      <td>...</td>\n",
       "      <td>...</td>\n",
       "      <td>...</td>\n",
       "      <td>...</td>\n",
       "    </tr>\n",
       "    <tr>\n",
       "      <th>1359</th>\n",
       "      <td>s1360</td>\n",
       "      <td>Movie</td>\n",
       "      <td>Lady and the Tramp II: Scamp's Adventure</td>\n",
       "      <td>Darrell Rooney</td>\n",
       "      <td>Scott Wolf, Alyssa Milano, Chazz Palminteri, J...</td>\n",
       "      <td>United States, Australia</td>\n",
       "      <td>October 1, 2019</td>\n",
       "      <td>2001</td>\n",
       "      <td>G</td>\n",
       "      <td>73 min</td>\n",
       "      <td>Action-Adventure, Animation, Coming of Age</td>\n",
       "      <td>Itching for freedom, Lady's pup Scamp joins up...</td>\n",
       "    </tr>\n",
       "    <tr>\n",
       "      <th>1361</th>\n",
       "      <td>s1362</td>\n",
       "      <td>Movie</td>\n",
       "      <td>The Cat from Outer Space</td>\n",
       "      <td>Norman Tokar</td>\n",
       "      <td>Ken Berry, Sandy Duncan, Harry Morgan, Roddy M...</td>\n",
       "      <td>United States</td>\n",
       "      <td>October 1, 2019</td>\n",
       "      <td>1978</td>\n",
       "      <td>G</td>\n",
       "      <td>104 min</td>\n",
       "      <td>Comedy, Family, Science Fiction</td>\n",
       "      <td>A physicist tries to help an alien cat after i...</td>\n",
       "    </tr>\n",
       "    <tr>\n",
       "      <th>1362</th>\n",
       "      <td>s1363</td>\n",
       "      <td>Movie</td>\n",
       "      <td>The Great Mouse Detective</td>\n",
       "      <td>John Musker, Ron Clements, Dave Michener</td>\n",
       "      <td>Vincent Price, Barrie Ingham, Val Bettin, Susa...</td>\n",
       "      <td>United States</td>\n",
       "      <td>October 1, 2019</td>\n",
       "      <td>1986</td>\n",
       "      <td>G</td>\n",
       "      <td>75 min</td>\n",
       "      <td>Animation, Family, Mystery</td>\n",
       "      <td>A super-sleuth mouse must solve a toy maker's ...</td>\n",
       "    </tr>\n",
       "    <tr>\n",
       "      <th>1363</th>\n",
       "      <td>s1364</td>\n",
       "      <td>Movie</td>\n",
       "      <td>The Sword in the Stone</td>\n",
       "      <td>Wolfgang Reitherman</td>\n",
       "      <td>Sebastian Cabot, Karl Swenson, Rickie Sorensen...</td>\n",
       "      <td>United States</td>\n",
       "      <td>October 1, 2019</td>\n",
       "      <td>1963</td>\n",
       "      <td>G</td>\n",
       "      <td>80 min</td>\n",
       "      <td>Action-Adventure, Animation, Comedy</td>\n",
       "      <td>Merlin trains a young orphan who's destined to...</td>\n",
       "    </tr>\n",
       "    <tr>\n",
       "      <th>1364</th>\n",
       "      <td>s1365</td>\n",
       "      <td>Movie</td>\n",
       "      <td>Those Calloways</td>\n",
       "      <td>Norman Tokar</td>\n",
       "      <td>Brian Keith, Vera Miles, Brandon de Wilde, Wal...</td>\n",
       "      <td>United States</td>\n",
       "      <td>October 1, 2019</td>\n",
       "      <td>1965</td>\n",
       "      <td>PG</td>\n",
       "      <td>132 min</td>\n",
       "      <td>Animals &amp; Nature, Drama, Family</td>\n",
       "      <td>A strong-willed family struggles to establish ...</td>\n",
       "    </tr>\n",
       "  </tbody>\n",
       "</table>\n",
       "<p>991 rows × 12 columns</p>\n",
       "</div>"
      ],
      "text/plain": [
       "     show_id   type                                     title  \\\n",
       "0         s1  Movie                             A Spark Story   \n",
       "1         s2  Movie                            Spooky Buddies   \n",
       "2         s3  Movie                    The Fault in Our Stars   \n",
       "6         s7  Movie               Confessions of a Shopaholic   \n",
       "7         s8  Movie                Descendants: Royal Wedding   \n",
       "...      ...    ...                                       ...   \n",
       "1359   s1360  Movie  Lady and the Tramp II: Scamp's Adventure   \n",
       "1361   s1362  Movie                  The Cat from Outer Space   \n",
       "1362   s1363  Movie                 The Great Mouse Detective   \n",
       "1363   s1364  Movie                    The Sword in the Stone   \n",
       "1364   s1365  Movie                           Those Calloways   \n",
       "\n",
       "                                      director  \\\n",
       "0                   Jason Sterman, Leanne Dare   \n",
       "1                                 Robert Vince   \n",
       "2                                   Josh Boone   \n",
       "6                                   P.J. Hogan   \n",
       "7                                Salvador Simó   \n",
       "...                                        ...   \n",
       "1359                            Darrell Rooney   \n",
       "1361                              Norman Tokar   \n",
       "1362  John Musker, Ron Clements, Dave Michener   \n",
       "1363                       Wolfgang Reitherman   \n",
       "1364                              Norman Tokar   \n",
       "\n",
       "                                                   cast  \\\n",
       "0                         Apthon Corbin, Louis Gonzales   \n",
       "1     Tucker Albrizzi, Diedrich Bader, Ameko Eks Mas...   \n",
       "2     Shailene Woodley, Ansel Elgort, Laura Dern, Sa...   \n",
       "6     Isla Fisher, Hugh Dancy, Joan Cusack, John Goo...   \n",
       "7     Dove Cameron, Sofia Carson, Booboo Stewart, Mi...   \n",
       "...                                                 ...   \n",
       "1359  Scott Wolf, Alyssa Milano, Chazz Palminteri, J...   \n",
       "1361  Ken Berry, Sandy Duncan, Harry Morgan, Roddy M...   \n",
       "1362  Vincent Price, Barrie Ingham, Val Bettin, Susa...   \n",
       "1363  Sebastian Cabot, Karl Swenson, Rickie Sorensen...   \n",
       "1364  Brian Keith, Vera Miles, Brandon de Wilde, Wal...   \n",
       "\n",
       "                       country          date_added  release_year rating  \\\n",
       "0                          NaN  September 24, 2021          2021  TV-PG   \n",
       "1        United States, Canada  September 24, 2021          2011      G   \n",
       "2                United States  September 24, 2021          2014  PG-13   \n",
       "6                United States  September 17, 2021          2009     PG   \n",
       "7                          NaN  September 17, 2021          2021   TV-G   \n",
       "...                        ...                 ...           ...    ...   \n",
       "1359  United States, Australia     October 1, 2019          2001      G   \n",
       "1361             United States     October 1, 2019          1978      G   \n",
       "1362             United States     October 1, 2019          1986      G   \n",
       "1363             United States     October 1, 2019          1963      G   \n",
       "1364             United States     October 1, 2019          1965     PG   \n",
       "\n",
       "     duration                                   listed_in  \\\n",
       "0      88 min                                 Documentary   \n",
       "1      93 min                       Comedy, Fantasy, Kids   \n",
       "2     127 min               Coming of Age, Drama, Romance   \n",
       "6     106 min            Comedy, Romance, Romantic Comedy   \n",
       "7      22 min                 Animation, Fantasy, Musical   \n",
       "...       ...                                         ...   \n",
       "1359   73 min  Action-Adventure, Animation, Coming of Age   \n",
       "1361  104 min             Comedy, Family, Science Fiction   \n",
       "1362   75 min                  Animation, Family, Mystery   \n",
       "1363   80 min         Action-Adventure, Animation, Comedy   \n",
       "1364  132 min             Animals & Nature, Drama, Family   \n",
       "\n",
       "                                            description  \n",
       "0     Two Pixar filmmakers strive to bring their uni...  \n",
       "1     The puppies go on a spooky adventure through a...  \n",
       "2     Hazel and Gus share a love that sweeps them on...  \n",
       "6     Becky writes a personal finance column en rout...  \n",
       "7                Mal and Ben’s wedding is finally here!  \n",
       "...                                                 ...  \n",
       "1359  Itching for freedom, Lady's pup Scamp joins up...  \n",
       "1361  A physicist tries to help an alien cat after i...  \n",
       "1362  A super-sleuth mouse must solve a toy maker's ...  \n",
       "1363  Merlin trains a young orphan who's destined to...  \n",
       "1364  A strong-willed family struggles to establish ...  \n",
       "\n",
       "[991 rows x 12 columns]"
      ]
     },
     "execution_count": 3,
     "metadata": {},
     "output_type": "execute_result"
    }
   ],
   "source": [
    "# Create dataframe of only movies\n",
    "movies_df = disney[disney['type'] == 'Movie']\n",
    "movies_df"
   ]
  },
  {
   "cell_type": "markdown",
   "id": "8b4d2790",
   "metadata": {},
   "source": [
    "2) Create a new dataframe named \"movie_ratings\" from movies_df that consists of\n",
    "the top5 ratings by count. This dataframe should consist of only two columns,\n",
    "rating and count."
   ]
  },
  {
   "cell_type": "code",
   "execution_count": 4,
   "id": "37c068dc",
   "metadata": {},
   "outputs": [
    {
     "data": {
      "application/vnd.microsoft.datawrangler.viewer.v0+json": {
       "columns": [
        {
         "name": "index",
         "rawType": "int64",
         "type": "integer"
        },
        {
         "name": "rating",
         "rawType": "object",
         "type": "unknown"
        }
       ],
       "ref": "02c08811-aeab-4fbd-b621-e9a96ad95200",
       "rows": [
        [
         "0",
         "TV-PG"
        ],
        [
         "1",
         "G"
        ],
        [
         "2",
         "PG-13"
        ],
        [
         "6",
         "PG"
        ],
        [
         "7",
         "TV-G"
        ],
        [
         "8",
         "TV-G"
        ],
        [
         "9",
         "TV-PG"
        ],
        [
         "10",
         "TV-PG"
        ],
        [
         "11",
         "G"
        ],
        [
         "12",
         "TV-PG"
        ],
        [
         "17",
         "TV-G"
        ],
        [
         "18",
         "PG-13"
        ],
        [
         "19",
         "PG"
        ],
        [
         "24",
         "TV-14"
        ],
        [
         "25",
         "PG"
        ],
        [
         "26",
         "PG-13"
        ],
        [
         "29",
         "PG-13"
        ],
        [
         "30",
         "PG-13"
        ],
        [
         "31",
         "TV-G"
        ],
        [
         "32",
         "TV-14"
        ],
        [
         "33",
         "PG"
        ],
        [
         "37",
         "PG"
        ],
        [
         "40",
         "PG"
        ],
        [
         "41",
         "PG-13"
        ],
        [
         "42",
         "PG-13"
        ],
        [
         "48",
         "G"
        ],
        [
         "49",
         "G"
        ],
        [
         "50",
         "TV-14"
        ],
        [
         "51",
         "PG-13"
        ],
        [
         "55",
         "TV-PG"
        ],
        [
         "56",
         "PG"
        ],
        [
         "63",
         "PG"
        ],
        [
         "64",
         "TV-14"
        ],
        [
         "65",
         "TV-14"
        ],
        [
         "66",
         "TV-PG"
        ],
        [
         "67",
         "TV-14"
        ],
        [
         "68",
         "PG"
        ],
        [
         "69",
         "TV-PG"
        ],
        [
         "75",
         "TV-PG"
        ],
        [
         "76",
         "TV-14"
        ],
        [
         "78",
         "TV-14"
        ],
        [
         "79",
         "TV-PG"
        ],
        [
         "80",
         "PG"
        ],
        [
         "81",
         "TV-PG"
        ],
        [
         "82",
         "TV-14"
        ],
        [
         "84",
         "PG"
        ],
        [
         "85",
         "TV-Y7-FV"
        ],
        [
         "86",
         "TV-14"
        ],
        [
         "87",
         "TV-14"
        ],
        [
         "88",
         "TV-PG"
        ]
       ],
       "shape": {
        "columns": 1,
        "rows": 991
       }
      },
      "text/html": [
       "<div>\n",
       "<style scoped>\n",
       "    .dataframe tbody tr th:only-of-type {\n",
       "        vertical-align: middle;\n",
       "    }\n",
       "\n",
       "    .dataframe tbody tr th {\n",
       "        vertical-align: top;\n",
       "    }\n",
       "\n",
       "    .dataframe thead th {\n",
       "        text-align: right;\n",
       "    }\n",
       "</style>\n",
       "<table border=\"1\" class=\"dataframe\">\n",
       "  <thead>\n",
       "    <tr style=\"text-align: right;\">\n",
       "      <th></th>\n",
       "      <th>rating</th>\n",
       "    </tr>\n",
       "  </thead>\n",
       "  <tbody>\n",
       "    <tr>\n",
       "      <th>0</th>\n",
       "      <td>TV-PG</td>\n",
       "    </tr>\n",
       "    <tr>\n",
       "      <th>1</th>\n",
       "      <td>G</td>\n",
       "    </tr>\n",
       "    <tr>\n",
       "      <th>2</th>\n",
       "      <td>PG-13</td>\n",
       "    </tr>\n",
       "    <tr>\n",
       "      <th>6</th>\n",
       "      <td>PG</td>\n",
       "    </tr>\n",
       "    <tr>\n",
       "      <th>7</th>\n",
       "      <td>TV-G</td>\n",
       "    </tr>\n",
       "    <tr>\n",
       "      <th>...</th>\n",
       "      <td>...</td>\n",
       "    </tr>\n",
       "    <tr>\n",
       "      <th>1359</th>\n",
       "      <td>G</td>\n",
       "    </tr>\n",
       "    <tr>\n",
       "      <th>1361</th>\n",
       "      <td>G</td>\n",
       "    </tr>\n",
       "    <tr>\n",
       "      <th>1362</th>\n",
       "      <td>G</td>\n",
       "    </tr>\n",
       "    <tr>\n",
       "      <th>1363</th>\n",
       "      <td>G</td>\n",
       "    </tr>\n",
       "    <tr>\n",
       "      <th>1364</th>\n",
       "      <td>PG</td>\n",
       "    </tr>\n",
       "  </tbody>\n",
       "</table>\n",
       "<p>991 rows × 1 columns</p>\n",
       "</div>"
      ],
      "text/plain": [
       "     rating\n",
       "0     TV-PG\n",
       "1         G\n",
       "2     PG-13\n",
       "6        PG\n",
       "7      TV-G\n",
       "...     ...\n",
       "1359      G\n",
       "1361      G\n",
       "1362      G\n",
       "1363      G\n",
       "1364     PG\n",
       "\n",
       "[991 rows x 1 columns]"
      ]
     },
     "execution_count": 4,
     "metadata": {},
     "output_type": "execute_result"
    }
   ],
   "source": [
    "# Create dataframe of movie ratings\n",
    "movie_ratings = movies_df[['rating']]\n",
    "movie_ratings"
   ]
  },
  {
   "cell_type": "code",
   "execution_count": 5,
   "id": "7825b70b",
   "metadata": {},
   "outputs": [
    {
     "data": {
      "application/vnd.microsoft.datawrangler.viewer.v0+json": {
       "columns": [
        {
         "name": "index",
         "rawType": "int64",
         "type": "integer"
        },
        {
         "name": "rating",
         "rawType": "object",
         "type": "string"
        },
        {
         "name": "count",
         "rawType": "int64",
         "type": "integer"
        }
       ],
       "ref": "dbafa588-0f68-4c51-ae26-7e161aa95f5a",
       "rows": [
        [
         "0",
         "G",
         "235"
        ],
        [
         "1",
         "PG",
         "226"
        ],
        [
         "2",
         "TV-G",
         "224"
        ],
        [
         "3",
         "TV-PG",
         "165"
        ],
        [
         "4",
         "PG-13",
         "60"
        ]
       ],
       "shape": {
        "columns": 2,
        "rows": 5
       }
      },
      "text/html": [
       "<div>\n",
       "<style scoped>\n",
       "    .dataframe tbody tr th:only-of-type {\n",
       "        vertical-align: middle;\n",
       "    }\n",
       "\n",
       "    .dataframe tbody tr th {\n",
       "        vertical-align: top;\n",
       "    }\n",
       "\n",
       "    .dataframe thead th {\n",
       "        text-align: right;\n",
       "    }\n",
       "</style>\n",
       "<table border=\"1\" class=\"dataframe\">\n",
       "  <thead>\n",
       "    <tr style=\"text-align: right;\">\n",
       "      <th></th>\n",
       "      <th>rating</th>\n",
       "      <th>count</th>\n",
       "    </tr>\n",
       "  </thead>\n",
       "  <tbody>\n",
       "    <tr>\n",
       "      <th>0</th>\n",
       "      <td>G</td>\n",
       "      <td>235</td>\n",
       "    </tr>\n",
       "    <tr>\n",
       "      <th>1</th>\n",
       "      <td>PG</td>\n",
       "      <td>226</td>\n",
       "    </tr>\n",
       "    <tr>\n",
       "      <th>2</th>\n",
       "      <td>TV-G</td>\n",
       "      <td>224</td>\n",
       "    </tr>\n",
       "    <tr>\n",
       "      <th>3</th>\n",
       "      <td>TV-PG</td>\n",
       "      <td>165</td>\n",
       "    </tr>\n",
       "    <tr>\n",
       "      <th>4</th>\n",
       "      <td>PG-13</td>\n",
       "      <td>60</td>\n",
       "    </tr>\n",
       "  </tbody>\n",
       "</table>\n",
       "</div>"
      ],
      "text/plain": [
       "  rating  count\n",
       "0      G    235\n",
       "1     PG    226\n",
       "2   TV-G    224\n",
       "3  TV-PG    165\n",
       "4  PG-13     60"
      ]
     },
     "execution_count": 5,
     "metadata": {},
     "output_type": "execute_result"
    }
   ],
   "source": [
    "# Create top5 ratings dataframe\n",
    "top5 = movie_ratings['rating'].value_counts().head(5).reset_index()\n",
    "top5.columns = ['rating', 'count']\n",
    "top5"
   ]
  },
  {
   "cell_type": "markdown",
   "id": "9ce96781",
   "metadata": {},
   "source": [
    "3) Use the movie_ratings dataframe to create a bar chart showing count of the\n",
    "top 5 ratings."
   ]
  },
  {
   "cell_type": "code",
   "execution_count": 6,
   "id": "00a5c812",
   "metadata": {},
   "outputs": [
    {
     "data": {
      "image/png": "[encoded data removed]",
      "text/plain": [
       "<Figure size 800x600 with 1 Axes>"
      ]
     },
     "metadata": {},
     "output_type": "display_data"
    }
   ],
   "source": [
    "# Create top5 bar chart\n",
    "plt.figure(figsize=(8,6))\n",
    "plt.bar(top5['rating'], top5['count'])\n",
    "\n",
    "# Add title and labels\n",
    "plt.title('Top 5 Ratings by Count')\n",
    "plt.xlabel('Rating')\n",
    "plt.ylabel('Count')\n",
    "\n",
    "plt.show()"
   ]
  },
  {
   "cell_type": "markdown",
   "id": "7ebb8661",
   "metadata": {},
   "source": [
    "4) Using the movies_df, subset the data to create a new dataframe named\n",
    "\"year_duration\" that only consists of 2 columns, release_year and duration."
   ]
  },
  {
   "cell_type": "code",
   "execution_count": 7,
   "id": "72caedea",
   "metadata": {},
   "outputs": [
    {
     "data": {
      "application/vnd.microsoft.datawrangler.viewer.v0+json": {
       "columns": [
        {
         "name": "index",
         "rawType": "int64",
         "type": "integer"
        },
        {
         "name": "release_year",
         "rawType": "int64",
         "type": "integer"
        },
        {
         "name": "duration",
         "rawType": "object",
         "type": "string"
        }
       ],
       "ref": "6fb902de-6a4e-4669-8532-bc1c58b2d11e",
       "rows": [
        [
         "0",
         "2021",
         "88 min"
        ],
        [
         "1",
         "2011",
         "93 min"
        ],
        [
         "2",
         "2014",
         "127 min"
        ],
        [
         "6",
         "2009",
         "106 min"
        ],
        [
         "7",
         "2021",
         "22 min"
        ],
        [
         "8",
         "2016",
         "116 min"
        ],
        [
         "9",
         "2021",
         "44 min"
        ],
        [
         "10",
         "2020",
         "44 min"
        ],
        [
         "11",
         "2021",
         "9 min"
        ],
        [
         "12",
         "2021",
         "42 min"
        ],
        [
         "17",
         "2021",
         "11 min"
        ],
        [
         "18",
         "2011",
         "140 min"
        ],
        [
         "19",
         "2021",
         "11 min"
        ],
        [
         "24",
         "2021",
         "66 min"
        ],
        [
         "25",
         "2015",
         "131 min"
        ],
        [
         "26",
         "2019",
         "115 min"
        ],
        [
         "29",
         "2021",
         "137 min"
        ],
        [
         "30",
         "2007",
         "99 min"
        ],
        [
         "31",
         "2021",
         "22 min"
        ],
        [
         "32",
         "2014",
         "14 min"
        ],
        [
         "33",
         "2007",
         "85 min"
        ],
        [
         "37",
         "2006",
         "104 min"
        ],
        [
         "40",
         "2006",
         "104 min"
        ],
        [
         "41",
         "2005",
         "106 min"
        ],
        [
         "42",
         "2000",
         "105 min"
        ],
        [
         "48",
         "2011",
         "88 min"
        ],
        [
         "49",
         "2012",
         "92 min"
        ],
        [
         "50",
         "2021",
         "44 min"
        ],
        [
         "51",
         "1993",
         "126 min"
        ],
        [
         "55",
         "2021",
         "88 min"
        ],
        [
         "56",
         "2004",
         "82 min"
        ],
        [
         "63",
         "2006",
         "94 min"
        ],
        [
         "64",
         "2021",
         "91 min"
        ],
        [
         "65",
         "2020",
         "44 min"
        ],
        [
         "66",
         "2020",
         "44 min"
        ],
        [
         "67",
         "2021",
         "87 min"
        ],
        [
         "68",
         "2013",
         "88 min"
        ],
        [
         "69",
         "2020",
         "44 min"
        ],
        [
         "75",
         "2020",
         "44 min"
        ],
        [
         "76",
         "2020",
         "44 min"
        ],
        [
         "78",
         "2021",
         "44 min"
        ],
        [
         "79",
         "2020",
         "44 min"
        ],
        [
         "80",
         "2011",
         "125 min"
        ],
        [
         "81",
         "2021",
         "44 min"
        ],
        [
         "82",
         "2021",
         "44 min"
        ],
        [
         "84",
         "2006",
         "95 min"
        ],
        [
         "85",
         "2021",
         "54 min"
        ],
        [
         "86",
         "2021",
         "44 min"
        ],
        [
         "87",
         "2021",
         "44 min"
        ],
        [
         "88",
         "2021",
         "44 min"
        ]
       ],
       "shape": {
        "columns": 2,
        "rows": 991
       }
      },
      "text/html": [
       "<div>\n",
       "<style scoped>\n",
       "    .dataframe tbody tr th:only-of-type {\n",
       "        vertical-align: middle;\n",
       "    }\n",
       "\n",
       "    .dataframe tbody tr th {\n",
       "        vertical-align: top;\n",
       "    }\n",
       "\n",
       "    .dataframe thead th {\n",
       "        text-align: right;\n",
       "    }\n",
       "</style>\n",
       "<table border=\"1\" class=\"dataframe\">\n",
       "  <thead>\n",
       "    <tr style=\"text-align: right;\">\n",
       "      <th></th>\n",
       "      <th>release_year</th>\n",
       "      <th>duration</th>\n",
       "    </tr>\n",
       "  </thead>\n",
       "  <tbody>\n",
       "    <tr>\n",
       "      <th>0</th>\n",
       "      <td>2021</td>\n",
       "      <td>88 min</td>\n",
       "    </tr>\n",
       "    <tr>\n",
       "      <th>1</th>\n",
       "      <td>2011</td>\n",
       "      <td>93 min</td>\n",
       "    </tr>\n",
       "    <tr>\n",
       "      <th>2</th>\n",
       "      <td>2014</td>\n",
       "      <td>127 min</td>\n",
       "    </tr>\n",
       "    <tr>\n",
       "      <th>6</th>\n",
       "      <td>2009</td>\n",
       "      <td>106 min</td>\n",
       "    </tr>\n",
       "    <tr>\n",
       "      <th>7</th>\n",
       "      <td>2021</td>\n",
       "      <td>22 min</td>\n",
       "    </tr>\n",
       "    <tr>\n",
       "      <th>...</th>\n",
       "      <td>...</td>\n",
       "      <td>...</td>\n",
       "    </tr>\n",
       "    <tr>\n",
       "      <th>1359</th>\n",
       "      <td>2001</td>\n",
       "      <td>73 min</td>\n",
       "    </tr>\n",
       "    <tr>\n",
       "      <th>1361</th>\n",
       "      <td>1978</td>\n",
       "      <td>104 min</td>\n",
       "    </tr>\n",
       "    <tr>\n",
       "      <th>1362</th>\n",
       "      <td>1986</td>\n",
       "      <td>75 min</td>\n",
       "    </tr>\n",
       "    <tr>\n",
       "      <th>1363</th>\n",
       "      <td>1963</td>\n",
       "      <td>80 min</td>\n",
       "    </tr>\n",
       "    <tr>\n",
       "      <th>1364</th>\n",
       "      <td>1965</td>\n",
       "      <td>132 min</td>\n",
       "    </tr>\n",
       "  </tbody>\n",
       "</table>\n",
       "<p>991 rows × 2 columns</p>\n",
       "</div>"
      ],
      "text/plain": [
       "      release_year duration\n",
       "0             2021   88 min\n",
       "1             2011   93 min\n",
       "2             2014  127 min\n",
       "6             2009  106 min\n",
       "7             2021   22 min\n",
       "...            ...      ...\n",
       "1359          2001   73 min\n",
       "1361          1978  104 min\n",
       "1362          1986   75 min\n",
       "1363          1963   80 min\n",
       "1364          1965  132 min\n",
       "\n",
       "[991 rows x 2 columns]"
      ]
     },
     "execution_count": 7,
     "metadata": {},
     "output_type": "execute_result"
    }
   ],
   "source": [
    "# Create dataframe of movie ratings\n",
    "year_duration = movies_df[['release_year', 'duration']]\n",
    "year_duration"
   ]
  },
  {
   "cell_type": "markdown",
   "id": "06420c67",
   "metadata": {},
   "source": [
    "5) Find min, max, and average duration of movies from the 1975-1984."
   ]
  },
  {
   "cell_type": "code",
   "execution_count": 8,
   "id": "b92e63ec",
   "metadata": {},
   "outputs": [
    {
     "name": "stderr",
     "output_type": "stream",
     "text": [
      "C:\\Users\\Newforce\\AppData\\Local\\Temp\\ipykernel_22928\\3881702044.py:2: SettingWithCopyWarning: \n",
      "A value is trying to be set on a copy of a slice from a DataFrame.\n",
      "Try using .loc[row_indexer,col_indexer] = value instead\n",
      "\n",
      "See the caveats in the documentation: https://pandas.pydata.org/pandas-docs/stable/user_guide/indexing.html#returning-a-view-versus-a-copy\n",
      "  year_duration['duration'] = year_duration['duration'].str.replace(' min', '').astype(int)\n"
     ]
    },
    {
     "data": {
      "application/vnd.microsoft.datawrangler.viewer.v0+json": {
       "columns": [
        {
         "name": "index",
         "rawType": "int64",
         "type": "integer"
        },
        {
         "name": "release_year",
         "rawType": "int64",
         "type": "integer"
        },
        {
         "name": "duration",
         "rawType": "int64",
         "type": "integer"
        }
       ],
       "ref": "1d131729-c709-4513-84fc-44f38cacd752",
       "rows": [
        [
         "0",
         "2021",
         "88"
        ],
        [
         "1",
         "2011",
         "93"
        ],
        [
         "2",
         "2014",
         "127"
        ],
        [
         "6",
         "2009",
         "106"
        ],
        [
         "7",
         "2021",
         "22"
        ],
        [
         "8",
         "2016",
         "116"
        ],
        [
         "9",
         "2021",
         "44"
        ],
        [
         "10",
         "2020",
         "44"
        ],
        [
         "11",
         "2021",
         "9"
        ],
        [
         "12",
         "2021",
         "42"
        ],
        [
         "17",
         "2021",
         "11"
        ],
        [
         "18",
         "2011",
         "140"
        ],
        [
         "19",
         "2021",
         "11"
        ],
        [
         "24",
         "2021",
         "66"
        ],
        [
         "25",
         "2015",
         "131"
        ],
        [
         "26",
         "2019",
         "115"
        ],
        [
         "29",
         "2021",
         "137"
        ],
        [
         "30",
         "2007",
         "99"
        ],
        [
         "31",
         "2021",
         "22"
        ],
        [
         "32",
         "2014",
         "14"
        ],
        [
         "33",
         "2007",
         "85"
        ],
        [
         "37",
         "2006",
         "104"
        ],
        [
         "40",
         "2006",
         "104"
        ],
        [
         "41",
         "2005",
         "106"
        ],
        [
         "42",
         "2000",
         "105"
        ],
        [
         "48",
         "2011",
         "88"
        ],
        [
         "49",
         "2012",
         "92"
        ],
        [
         "50",
         "2021",
         "44"
        ],
        [
         "51",
         "1993",
         "126"
        ],
        [
         "55",
         "2021",
         "88"
        ],
        [
         "56",
         "2004",
         "82"
        ],
        [
         "63",
         "2006",
         "94"
        ],
        [
         "64",
         "2021",
         "91"
        ],
        [
         "65",
         "2020",
         "44"
        ],
        [
         "66",
         "2020",
         "44"
        ],
        [
         "67",
         "2021",
         "87"
        ],
        [
         "68",
         "2013",
         "88"
        ],
        [
         "69",
         "2020",
         "44"
        ],
        [
         "75",
         "2020",
         "44"
        ],
        [
         "76",
         "2020",
         "44"
        ],
        [
         "78",
         "2021",
         "44"
        ],
        [
         "79",
         "2020",
         "44"
        ],
        [
         "80",
         "2011",
         "125"
        ],
        [
         "81",
         "2021",
         "44"
        ],
        [
         "82",
         "2021",
         "44"
        ],
        [
         "84",
         "2006",
         "95"
        ],
        [
         "85",
         "2021",
         "54"
        ],
        [
         "86",
         "2021",
         "44"
        ],
        [
         "87",
         "2021",
         "44"
        ],
        [
         "88",
         "2021",
         "44"
        ]
       ],
       "shape": {
        "columns": 2,
        "rows": 991
       }
      },
      "text/html": [
       "<div>\n",
       "<style scoped>\n",
       "    .dataframe tbody tr th:only-of-type {\n",
       "        vertical-align: middle;\n",
       "    }\n",
       "\n",
       "    .dataframe tbody tr th {\n",
       "        vertical-align: top;\n",
       "    }\n",
       "\n",
       "    .dataframe thead th {\n",
       "        text-align: right;\n",
       "    }\n",
       "</style>\n",
       "<table border=\"1\" class=\"dataframe\">\n",
       "  <thead>\n",
       "    <tr style=\"text-align: right;\">\n",
       "      <th></th>\n",
       "      <th>release_year</th>\n",
       "      <th>duration</th>\n",
       "    </tr>\n",
       "  </thead>\n",
       "  <tbody>\n",
       "    <tr>\n",
       "      <th>0</th>\n",
       "      <td>2021</td>\n",
       "      <td>88</td>\n",
       "    </tr>\n",
       "    <tr>\n",
       "      <th>1</th>\n",
       "      <td>2011</td>\n",
       "      <td>93</td>\n",
       "    </tr>\n",
       "    <tr>\n",
       "      <th>2</th>\n",
       "      <td>2014</td>\n",
       "      <td>127</td>\n",
       "    </tr>\n",
       "    <tr>\n",
       "      <th>6</th>\n",
       "      <td>2009</td>\n",
       "      <td>106</td>\n",
       "    </tr>\n",
       "    <tr>\n",
       "      <th>7</th>\n",
       "      <td>2021</td>\n",
       "      <td>22</td>\n",
       "    </tr>\n",
       "    <tr>\n",
       "      <th>...</th>\n",
       "      <td>...</td>\n",
       "      <td>...</td>\n",
       "    </tr>\n",
       "    <tr>\n",
       "      <th>1359</th>\n",
       "      <td>2001</td>\n",
       "      <td>73</td>\n",
       "    </tr>\n",
       "    <tr>\n",
       "      <th>1361</th>\n",
       "      <td>1978</td>\n",
       "      <td>104</td>\n",
       "    </tr>\n",
       "    <tr>\n",
       "      <th>1362</th>\n",
       "      <td>1986</td>\n",
       "      <td>75</td>\n",
       "    </tr>\n",
       "    <tr>\n",
       "      <th>1363</th>\n",
       "      <td>1963</td>\n",
       "      <td>80</td>\n",
       "    </tr>\n",
       "    <tr>\n",
       "      <th>1364</th>\n",
       "      <td>1965</td>\n",
       "      <td>132</td>\n",
       "    </tr>\n",
       "  </tbody>\n",
       "</table>\n",
       "<p>991 rows × 2 columns</p>\n",
       "</div>"
      ],
      "text/plain": [
       "      release_year  duration\n",
       "0             2021        88\n",
       "1             2011        93\n",
       "2             2014       127\n",
       "6             2009       106\n",
       "7             2021        22\n",
       "...            ...       ...\n",
       "1359          2001        73\n",
       "1361          1978       104\n",
       "1362          1986        75\n",
       "1363          1963        80\n",
       "1364          1965       132\n",
       "\n",
       "[991 rows x 2 columns]"
      ]
     },
     "execution_count": 8,
     "metadata": {},
     "output_type": "execute_result"
    }
   ],
   "source": [
    "# Remove ' min' and convert to integer\n",
    "year_duration['duration'] = year_duration['duration'].str.replace(' min', '').astype(int)\n",
    "\n",
    "# Check the first few rows\n",
    "year_duration\n"
   ]
  },
  {
   "cell_type": "code",
   "execution_count": 9,
   "id": "321fd466",
   "metadata": {},
   "outputs": [
    {
     "data": {
      "application/vnd.microsoft.datawrangler.viewer.v0+json": {
       "columns": [
        {
         "name": "index",
         "rawType": "int64",
         "type": "integer"
        },
        {
         "name": "release_year",
         "rawType": "int64",
         "type": "integer"
        },
        {
         "name": "duration",
         "rawType": "int64",
         "type": "integer"
        }
       ],
       "ref": "3ff56f53-e4c6-4138-bc76-6076e04af57f",
       "rows": [
        [
         "173",
         "1984",
         "97"
        ],
        [
         "394",
         "1977",
         "56"
        ],
        [
         "492",
         "1977",
         "48"
        ],
        [
         "514",
         "1975",
         "90"
        ],
        [
         "516",
         "1978",
         "25"
        ],
        [
         "549",
         "1984",
         "110"
        ],
        [
         "652",
         "1981",
         "100"
        ],
        [
         "700",
         "1978",
         "101"
        ],
        [
         "806",
         "1975",
         "98"
        ],
        [
         "825",
         "1984",
         "27"
        ],
        [
         "851",
         "1976",
         "97"
        ],
        [
         "862",
         "1980",
         "93"
        ],
        [
         "863",
         "1977",
         "105"
        ],
        [
         "1000",
         "1983",
         "26"
        ],
        [
         "1087",
         "1978",
         "94"
        ],
        [
         "1137",
         "1977",
         "125"
        ],
        [
         "1140",
         "1983",
         "135"
        ],
        [
         "1142",
         "1980",
         "127"
        ],
        [
         "1151",
         "1980",
         "47"
        ],
        [
         "1166",
         "1984",
         "2"
        ],
        [
         "1172",
         "1975",
         "100"
        ],
        [
         "1173",
         "1979",
         "89"
        ],
        [
         "1183",
         "1979",
         "98"
        ],
        [
         "1201",
         "1981",
         "85"
        ],
        [
         "1204",
         "1980",
         "93"
        ],
        [
         "1208",
         "1981",
         "98"
        ],
        [
         "1231",
         "1977",
         "75"
        ],
        [
         "1235",
         "1979",
         "95"
        ],
        [
         "1253",
         "1977",
         "78"
        ],
        [
         "1261",
         "1976",
         "92"
        ],
        [
         "1267",
         "1975",
         "92"
        ],
        [
         "1312",
         "1976",
         "116"
        ],
        [
         "1315",
         "1982",
         "96"
        ],
        [
         "1322",
         "1979",
         "93"
        ],
        [
         "1361",
         "1978",
         "104"
        ]
       ],
       "shape": {
        "columns": 2,
        "rows": 35
       }
      },
      "text/html": [
       "<div>\n",
       "<style scoped>\n",
       "    .dataframe tbody tr th:only-of-type {\n",
       "        vertical-align: middle;\n",
       "    }\n",
       "\n",
       "    .dataframe tbody tr th {\n",
       "        vertical-align: top;\n",
       "    }\n",
       "\n",
       "    .dataframe thead th {\n",
       "        text-align: right;\n",
       "    }\n",
       "</style>\n",
       "<table border=\"1\" class=\"dataframe\">\n",
       "  <thead>\n",
       "    <tr style=\"text-align: right;\">\n",
       "      <th></th>\n",
       "      <th>release_year</th>\n",
       "      <th>duration</th>\n",
       "    </tr>\n",
       "  </thead>\n",
       "  <tbody>\n",
       "    <tr>\n",
       "      <th>173</th>\n",
       "      <td>1984</td>\n",
       "      <td>97</td>\n",
       "    </tr>\n",
       "    <tr>\n",
       "      <th>394</th>\n",
       "      <td>1977</td>\n",
       "      <td>56</td>\n",
       "    </tr>\n",
       "    <tr>\n",
       "      <th>492</th>\n",
       "      <td>1977</td>\n",
       "      <td>48</td>\n",
       "    </tr>\n",
       "    <tr>\n",
       "      <th>514</th>\n",
       "      <td>1975</td>\n",
       "      <td>90</td>\n",
       "    </tr>\n",
       "    <tr>\n",
       "      <th>516</th>\n",
       "      <td>1978</td>\n",
       "      <td>25</td>\n",
       "    </tr>\n",
       "    <tr>\n",
       "      <th>549</th>\n",
       "      <td>1984</td>\n",
       "      <td>110</td>\n",
       "    </tr>\n",
       "    <tr>\n",
       "      <th>652</th>\n",
       "      <td>1981</td>\n",
       "      <td>100</td>\n",
       "    </tr>\n",
       "    <tr>\n",
       "      <th>700</th>\n",
       "      <td>1978</td>\n",
       "      <td>101</td>\n",
       "    </tr>\n",
       "    <tr>\n",
       "      <th>806</th>\n",
       "      <td>1975</td>\n",
       "      <td>98</td>\n",
       "    </tr>\n",
       "    <tr>\n",
       "      <th>825</th>\n",
       "      <td>1984</td>\n",
       "      <td>27</td>\n",
       "    </tr>\n",
       "    <tr>\n",
       "      <th>851</th>\n",
       "      <td>1976</td>\n",
       "      <td>97</td>\n",
       "    </tr>\n",
       "    <tr>\n",
       "      <th>862</th>\n",
       "      <td>1980</td>\n",
       "      <td>93</td>\n",
       "    </tr>\n",
       "    <tr>\n",
       "      <th>863</th>\n",
       "      <td>1977</td>\n",
       "      <td>105</td>\n",
       "    </tr>\n",
       "    <tr>\n",
       "      <th>1000</th>\n",
       "      <td>1983</td>\n",
       "      <td>26</td>\n",
       "    </tr>\n",
       "    <tr>\n",
       "      <th>1087</th>\n",
       "      <td>1978</td>\n",
       "      <td>94</td>\n",
       "    </tr>\n",
       "    <tr>\n",
       "      <th>1137</th>\n",
       "      <td>1977</td>\n",
       "      <td>125</td>\n",
       "    </tr>\n",
       "    <tr>\n",
       "      <th>1140</th>\n",
       "      <td>1983</td>\n",
       "      <td>135</td>\n",
       "    </tr>\n",
       "    <tr>\n",
       "      <th>1142</th>\n",
       "      <td>1980</td>\n",
       "      <td>127</td>\n",
       "    </tr>\n",
       "    <tr>\n",
       "      <th>1151</th>\n",
       "      <td>1980</td>\n",
       "      <td>47</td>\n",
       "    </tr>\n",
       "    <tr>\n",
       "      <th>1166</th>\n",
       "      <td>1984</td>\n",
       "      <td>2</td>\n",
       "    </tr>\n",
       "    <tr>\n",
       "      <th>1172</th>\n",
       "      <td>1975</td>\n",
       "      <td>100</td>\n",
       "    </tr>\n",
       "    <tr>\n",
       "      <th>1173</th>\n",
       "      <td>1979</td>\n",
       "      <td>89</td>\n",
       "    </tr>\n",
       "    <tr>\n",
       "      <th>1183</th>\n",
       "      <td>1979</td>\n",
       "      <td>98</td>\n",
       "    </tr>\n",
       "    <tr>\n",
       "      <th>1201</th>\n",
       "      <td>1981</td>\n",
       "      <td>85</td>\n",
       "    </tr>\n",
       "    <tr>\n",
       "      <th>1204</th>\n",
       "      <td>1980</td>\n",
       "      <td>93</td>\n",
       "    </tr>\n",
       "    <tr>\n",
       "      <th>1208</th>\n",
       "      <td>1981</td>\n",
       "      <td>98</td>\n",
       "    </tr>\n",
       "    <tr>\n",
       "      <th>1231</th>\n",
       "      <td>1977</td>\n",
       "      <td>75</td>\n",
       "    </tr>\n",
       "    <tr>\n",
       "      <th>1235</th>\n",
       "      <td>1979</td>\n",
       "      <td>95</td>\n",
       "    </tr>\n",
       "    <tr>\n",
       "      <th>1253</th>\n",
       "      <td>1977</td>\n",
       "      <td>78</td>\n",
       "    </tr>\n",
       "    <tr>\n",
       "      <th>1261</th>\n",
       "      <td>1976</td>\n",
       "      <td>92</td>\n",
       "    </tr>\n",
       "    <tr>\n",
       "      <th>1267</th>\n",
       "      <td>1975</td>\n",
       "      <td>92</td>\n",
       "    </tr>\n",
       "    <tr>\n",
       "      <th>1312</th>\n",
       "      <td>1976</td>\n",
       "      <td>116</td>\n",
       "    </tr>\n",
       "    <tr>\n",
       "      <th>1315</th>\n",
       "      <td>1982</td>\n",
       "      <td>96</td>\n",
       "    </tr>\n",
       "    <tr>\n",
       "      <th>1322</th>\n",
       "      <td>1979</td>\n",
       "      <td>93</td>\n",
       "    </tr>\n",
       "    <tr>\n",
       "      <th>1361</th>\n",
       "      <td>1978</td>\n",
       "      <td>104</td>\n",
       "    </tr>\n",
       "  </tbody>\n",
       "</table>\n",
       "</div>"
      ],
      "text/plain": [
       "      release_year  duration\n",
       "173           1984        97\n",
       "394           1977        56\n",
       "492           1977        48\n",
       "514           1975        90\n",
       "516           1978        25\n",
       "549           1984       110\n",
       "652           1981       100\n",
       "700           1978       101\n",
       "806           1975        98\n",
       "825           1984        27\n",
       "851           1976        97\n",
       "862           1980        93\n",
       "863           1977       105\n",
       "1000          1983        26\n",
       "1087          1978        94\n",
       "1137          1977       125\n",
       "1140          1983       135\n",
       "1142          1980       127\n",
       "1151          1980        47\n",
       "1166          1984         2\n",
       "1172          1975       100\n",
       "1173          1979        89\n",
       "1183          1979        98\n",
       "1201          1981        85\n",
       "1204          1980        93\n",
       "1208          1981        98\n",
       "1231          1977        75\n",
       "1235          1979        95\n",
       "1253          1977        78\n",
       "1261          1976        92\n",
       "1267          1975        92\n",
       "1312          1976       116\n",
       "1315          1982        96\n",
       "1322          1979        93\n",
       "1361          1978       104"
      ]
     },
     "execution_count": 9,
     "metadata": {},
     "output_type": "execute_result"
    }
   ],
   "source": [
    "# Filter rows for years 75-84\n",
    "subset = year_duration[(year_duration['release_year'] >= 1975) & (year_duration['release_year'] <= 1984)]\n",
    "subset"
   ]
  },
  {
   "cell_type": "code",
   "execution_count": 10,
   "id": "42578132",
   "metadata": {},
   "outputs": [
    {
     "name": "stdout",
     "output_type": "stream",
     "text": [
      "Minimum duration: 2\n",
      "Maximum duration: 135\n",
      "Average duration: 85.91428571428571\n"
     ]
    }
   ],
   "source": [
    "# Calc min, max and avg duration\n",
    "min_duration = subset['duration'].min()\n",
    "max_duration = subset['duration'].max()\n",
    "avg_duration = subset['duration'].mean()\n",
    "\n",
    "print(\"Minimum duration:\", min_duration)\n",
    "print(\"Maximum duration:\", max_duration)\n",
    "print(\"Average duration:\", avg_duration)"
   ]
  },
  {
   "cell_type": "markdown",
   "id": "0a6f8b92",
   "metadata": {},
   "source": [
    "6) Create a scatterplot using year_duration that looks at movie durations\n",
    "over the years.  Do you notice any correlation?"
   ]
  },
  {
   "cell_type": "code",
   "execution_count": 11,
   "id": "da653bb4",
   "metadata": {},
   "outputs": [
    {
     "data": {
      "image/png": "[encoded data removed]",
      "text/plain": [
       "<Figure size 800x600 with 1 Axes>"
      ]
     },
     "metadata": {},
     "output_type": "display_data"
    }
   ],
   "source": [
    "# Create top5 bar chart\n",
    "plt.figure(figsize=(8,6))\n",
    "plt.scatter(year_duration['release_year'], year_duration['duration'])\n",
    "\n",
    "# Add title and labels\n",
    "plt.title('Movie Durations by Year')\n",
    "plt.xlabel('Release Year')\n",
    "plt.ylabel('Duration')\n",
    "\n",
    "plt.show()"
   ]
  },
  {
   "cell_type": "markdown",
   "id": "240105af",
   "metadata": {},
   "source": [
    "7) Find the actual correlation value, is there any correlation?"
   ]
  },
  {
   "cell_type": "code",
   "execution_count": 12,
   "id": "abbe9e5a",
   "metadata": {},
   "outputs": [
    {
     "data": {
      "application/vnd.microsoft.datawrangler.viewer.v0+json": {
       "columns": [
        {
         "name": "index",
         "rawType": "object",
         "type": "string"
        },
        {
         "name": "release_year",
         "rawType": "float64",
         "type": "float"
        },
        {
         "name": "duration",
         "rawType": "float64",
         "type": "float"
        }
       ],
       "ref": "31540ddb-d819-4d98-a02e-f1423a17e003",
       "rows": [
        [
         "release_year",
         "1.0",
         "0.24126750074511924"
        ],
        [
         "duration",
         "0.24126750074511924",
         "1.0"
        ]
       ],
       "shape": {
        "columns": 2,
        "rows": 2
       }
      },
      "text/html": [
       "<div>\n",
       "<style scoped>\n",
       "    .dataframe tbody tr th:only-of-type {\n",
       "        vertical-align: middle;\n",
       "    }\n",
       "\n",
       "    .dataframe tbody tr th {\n",
       "        vertical-align: top;\n",
       "    }\n",
       "\n",
       "    .dataframe thead th {\n",
       "        text-align: right;\n",
       "    }\n",
       "</style>\n",
       "<table border=\"1\" class=\"dataframe\">\n",
       "  <thead>\n",
       "    <tr style=\"text-align: right;\">\n",
       "      <th></th>\n",
       "      <th>release_year</th>\n",
       "      <th>duration</th>\n",
       "    </tr>\n",
       "  </thead>\n",
       "  <tbody>\n",
       "    <tr>\n",
       "      <th>release_year</th>\n",
       "      <td>1.000000</td>\n",
       "      <td>0.241268</td>\n",
       "    </tr>\n",
       "    <tr>\n",
       "      <th>duration</th>\n",
       "      <td>0.241268</td>\n",
       "      <td>1.000000</td>\n",
       "    </tr>\n",
       "  </tbody>\n",
       "</table>\n",
       "</div>"
      ],
      "text/plain": [
       "              release_year  duration\n",
       "release_year      1.000000  0.241268\n",
       "duration          0.241268  1.000000"
      ]
     },
     "execution_count": 12,
     "metadata": {},
     "output_type": "execute_result"
    }
   ],
   "source": [
    "# Find correlation values\n",
    "year_duration.corr()"
   ]
  },
  {
   "cell_type": "markdown",
   "id": "a32f67dc",
   "metadata": {},
   "source": [
    "8) Use movie_df to find which year had the most G-rated releases.  Can you do\n",
    "this in a single line of code?"
   ]
  },
  {
   "cell_type": "code",
   "execution_count": 13,
   "id": "fab66a72",
   "metadata": {},
   "outputs": [
    {
     "name": "stdout",
     "output_type": "stream",
     "text": [
      "Year with most G-rated releases: 2003\n"
     ]
    }
   ],
   "source": [
    "# Find year with most G releases\n",
    "most_g_year = movies_df[movies_df['rating'] == 'G']['release_year'].value_counts().idxmax()\n",
    "\n",
    "print(\"Year with most G-rated releases:\", most_g_year)"
   ]
  },
  {
   "cell_type": "markdown",
   "id": "f463a13f",
   "metadata": {},
   "source": [
    "9) Which year had the most movie releases?  What percentage of movies that year\n",
    "had durations that were statistical outliers for that year?"
   ]
  },
  {
   "cell_type": "code",
   "execution_count": 14,
   "id": "15a9e96b",
   "metadata": {},
   "outputs": [
    {
     "name": "stdout",
     "output_type": "stream",
     "text": [
      "Year with most releases: 2020\n"
     ]
    }
   ],
   "source": [
    "most_releases = movies_df['release_year'].value_counts().idxmax()\n",
    "\n",
    "print(\"Year with most releases:\", most_releases)"
   ]
  },
  {
   "cell_type": "markdown",
   "id": "00468483",
   "metadata": {},
   "source": [
    "10) Create a new column in movies_df that catagorizes each movie as either\n",
    "short, average, or long.  Short movies should be 30 mins or less, long movies\n",
    "should be over 2 hours."
   ]
  },
  {
   "cell_type": "code",
   "execution_count": 15,
   "id": "5c7044e5",
   "metadata": {},
   "outputs": [
    {
     "name": "stderr",
     "output_type": "stream",
     "text": [
      "C:\\Users\\Newforce\\AppData\\Local\\Temp\\ipykernel_22928\\2730689303.py:11: SettingWithCopyWarning: \n",
      "A value is trying to be set on a copy of a slice from a DataFrame.\n",
      "Try using .loc[row_indexer,col_indexer] = value instead\n",
      "\n",
      "See the caveats in the documentation: https://pandas.pydata.org/pandas-docs/stable/user_guide/indexing.html#returning-a-view-versus-a-copy\n",
      "  year_duration['length_category'] = year_duration['duration'].apply(duration_category)\n"
     ]
    },
    {
     "data": {
      "application/vnd.microsoft.datawrangler.viewer.v0+json": {
       "columns": [
        {
         "name": "index",
         "rawType": "int64",
         "type": "integer"
        },
        {
         "name": "release_year",
         "rawType": "int64",
         "type": "integer"
        },
        {
         "name": "duration",
         "rawType": "int64",
         "type": "integer"
        },
        {
         "name": "length_category",
         "rawType": "object",
         "type": "string"
        }
       ],
       "ref": "56d08957-9b6f-42fa-8b25-f524796de489",
       "rows": [
        [
         "0",
         "2021",
         "88",
         "Average"
        ],
        [
         "1",
         "2011",
         "93",
         "Average"
        ],
        [
         "2",
         "2014",
         "127",
         "Long"
        ],
        [
         "6",
         "2009",
         "106",
         "Average"
        ],
        [
         "7",
         "2021",
         "22",
         "Short"
        ],
        [
         "8",
         "2016",
         "116",
         "Average"
        ],
        [
         "9",
         "2021",
         "44",
         "Average"
        ],
        [
         "10",
         "2020",
         "44",
         "Average"
        ],
        [
         "11",
         "2021",
         "9",
         "Short"
        ],
        [
         "12",
         "2021",
         "42",
         "Average"
        ],
        [
         "17",
         "2021",
         "11",
         "Short"
        ],
        [
         "18",
         "2011",
         "140",
         "Long"
        ],
        [
         "19",
         "2021",
         "11",
         "Short"
        ],
        [
         "24",
         "2021",
         "66",
         "Average"
        ],
        [
         "25",
         "2015",
         "131",
         "Long"
        ],
        [
         "26",
         "2019",
         "115",
         "Average"
        ],
        [
         "29",
         "2021",
         "137",
         "Long"
        ],
        [
         "30",
         "2007",
         "99",
         "Average"
        ],
        [
         "31",
         "2021",
         "22",
         "Short"
        ],
        [
         "32",
         "2014",
         "14",
         "Short"
        ],
        [
         "33",
         "2007",
         "85",
         "Average"
        ],
        [
         "37",
         "2006",
         "104",
         "Average"
        ],
        [
         "40",
         "2006",
         "104",
         "Average"
        ],
        [
         "41",
         "2005",
         "106",
         "Average"
        ],
        [
         "42",
         "2000",
         "105",
         "Average"
        ],
        [
         "48",
         "2011",
         "88",
         "Average"
        ],
        [
         "49",
         "2012",
         "92",
         "Average"
        ],
        [
         "50",
         "2021",
         "44",
         "Average"
        ],
        [
         "51",
         "1993",
         "126",
         "Long"
        ],
        [
         "55",
         "2021",
         "88",
         "Average"
        ],
        [
         "56",
         "2004",
         "82",
         "Average"
        ],
        [
         "63",
         "2006",
         "94",
         "Average"
        ],
        [
         "64",
         "2021",
         "91",
         "Average"
        ],
        [
         "65",
         "2020",
         "44",
         "Average"
        ],
        [
         "66",
         "2020",
         "44",
         "Average"
        ],
        [
         "67",
         "2021",
         "87",
         "Average"
        ],
        [
         "68",
         "2013",
         "88",
         "Average"
        ],
        [
         "69",
         "2020",
         "44",
         "Average"
        ],
        [
         "75",
         "2020",
         "44",
         "Average"
        ],
        [
         "76",
         "2020",
         "44",
         "Average"
        ],
        [
         "78",
         "2021",
         "44",
         "Average"
        ],
        [
         "79",
         "2020",
         "44",
         "Average"
        ],
        [
         "80",
         "2011",
         "125",
         "Long"
        ],
        [
         "81",
         "2021",
         "44",
         "Average"
        ],
        [
         "82",
         "2021",
         "44",
         "Average"
        ],
        [
         "84",
         "2006",
         "95",
         "Average"
        ],
        [
         "85",
         "2021",
         "54",
         "Average"
        ],
        [
         "86",
         "2021",
         "44",
         "Average"
        ],
        [
         "87",
         "2021",
         "44",
         "Average"
        ],
        [
         "88",
         "2021",
         "44",
         "Average"
        ]
       ],
       "shape": {
        "columns": 3,
        "rows": 991
       }
      },
      "text/html": [
       "<div>\n",
       "<style scoped>\n",
       "    .dataframe tbody tr th:only-of-type {\n",
       "        vertical-align: middle;\n",
       "    }\n",
       "\n",
       "    .dataframe tbody tr th {\n",
       "        vertical-align: top;\n",
       "    }\n",
       "\n",
       "    .dataframe thead th {\n",
       "        text-align: right;\n",
       "    }\n",
       "</style>\n",
       "<table border=\"1\" class=\"dataframe\">\n",
       "  <thead>\n",
       "    <tr style=\"text-align: right;\">\n",
       "      <th></th>\n",
       "      <th>release_year</th>\n",
       "      <th>duration</th>\n",
       "      <th>length_category</th>\n",
       "    </tr>\n",
       "  </thead>\n",
       "  <tbody>\n",
       "    <tr>\n",
       "      <th>0</th>\n",
       "      <td>2021</td>\n",
       "      <td>88</td>\n",
       "      <td>Average</td>\n",
       "    </tr>\n",
       "    <tr>\n",
       "      <th>1</th>\n",
       "      <td>2011</td>\n",
       "      <td>93</td>\n",
       "      <td>Average</td>\n",
       "    </tr>\n",
       "    <tr>\n",
       "      <th>2</th>\n",
       "      <td>2014</td>\n",
       "      <td>127</td>\n",
       "      <td>Long</td>\n",
       "    </tr>\n",
       "    <tr>\n",
       "      <th>6</th>\n",
       "      <td>2009</td>\n",
       "      <td>106</td>\n",
       "      <td>Average</td>\n",
       "    </tr>\n",
       "    <tr>\n",
       "      <th>7</th>\n",
       "      <td>2021</td>\n",
       "      <td>22</td>\n",
       "      <td>Short</td>\n",
       "    </tr>\n",
       "    <tr>\n",
       "      <th>...</th>\n",
       "      <td>...</td>\n",
       "      <td>...</td>\n",
       "      <td>...</td>\n",
       "    </tr>\n",
       "    <tr>\n",
       "      <th>1359</th>\n",
       "      <td>2001</td>\n",
       "      <td>73</td>\n",
       "      <td>Average</td>\n",
       "    </tr>\n",
       "    <tr>\n",
       "      <th>1361</th>\n",
       "      <td>1978</td>\n",
       "      <td>104</td>\n",
       "      <td>Average</td>\n",
       "    </tr>\n",
       "    <tr>\n",
       "      <th>1362</th>\n",
       "      <td>1986</td>\n",
       "      <td>75</td>\n",
       "      <td>Average</td>\n",
       "    </tr>\n",
       "    <tr>\n",
       "      <th>1363</th>\n",
       "      <td>1963</td>\n",
       "      <td>80</td>\n",
       "      <td>Average</td>\n",
       "    </tr>\n",
       "    <tr>\n",
       "      <th>1364</th>\n",
       "      <td>1965</td>\n",
       "      <td>132</td>\n",
       "      <td>Long</td>\n",
       "    </tr>\n",
       "  </tbody>\n",
       "</table>\n",
       "<p>991 rows × 3 columns</p>\n",
       "</div>"
      ],
      "text/plain": [
       "      release_year  duration length_category\n",
       "0             2021        88         Average\n",
       "1             2011        93         Average\n",
       "2             2014       127            Long\n",
       "6             2009       106         Average\n",
       "7             2021        22           Short\n",
       "...            ...       ...             ...\n",
       "1359          2001        73         Average\n",
       "1361          1978       104         Average\n",
       "1362          1986        75         Average\n",
       "1363          1963        80         Average\n",
       "1364          1965       132            Long\n",
       "\n",
       "[991 rows x 3 columns]"
      ]
     },
     "execution_count": 15,
     "metadata": {},
     "output_type": "execute_result"
    }
   ],
   "source": [
    "# Write a function to categorize movie length\n",
    "def duration_category(d):\n",
    "    if d <= 30:\n",
    "        return 'Short'\n",
    "    elif d > 120:\n",
    "        return 'Long'\n",
    "    else:\n",
    "        return 'Average'\n",
    "    \n",
    "# Apply the function to create new column\n",
    "year_duration['length_category'] = year_duration['duration'].apply(duration_category)\n",
    "\n",
    "# Check result\n",
    "year_duration"
   ]
  },
  {
   "cell_type": "markdown",
   "id": "a4515dca",
   "metadata": {},
   "source": [
    "11) Make a pie chart of the above movie lengths."
   ]
  },
  {
   "cell_type": "code",
   "execution_count": 16,
   "id": "665f29d8",
   "metadata": {},
   "outputs": [
    {
     "data": {
      "image/png": "[encoded data removed]",
      "text/plain": [
       "<Figure size 600x600 with 1 Axes>"
      ]
     },
     "metadata": {},
     "output_type": "display_data"
    }
   ],
   "source": [
    "# Count movies in each category\n",
    "length_counts = year_duration['length_category'].value_counts()\n",
    "\n",
    "# Create a pie chart\n",
    "plt.figure(figsize=(6,6))\n",
    "plt.pie(length_counts, labels=length_counts.index, autopct='%1.1f%%', startangle=90)\n",
    "\n",
    "# Add a title\n",
    "plt.title('Movie Length Distribution')\n",
    "\n",
    "# Equal aspect ratio makes the pie a circle\n",
    "plt.axis('equal')\n",
    "plt.show()"
   ]
  },
  {
   "cell_type": "markdown",
   "id": "434caf90",
   "metadata": {},
   "source": [
    "12) Which movie had the greatest gap from the year it was released to the year\n",
    "it was added?  What is the average?"
   ]
  },
  {
   "cell_type": "code",
   "execution_count": null,
   "id": "37a1f33f",
   "metadata": {},
   "outputs": [],
   "source": [
    "# Find out movie gap between release and added year\n",
    "# Tommy example--movies_df['added_gap'] = movies_df['date_added'].str[-4:].astype(int) - movies_df['release_year']\n",
    "# Tommy example--movies_df['date_added'] = pd.to_datetime(movies_df.date_added)\n",
    "# Tommy example--movies_df.loc[movies_df.date_added]\n",
    "# Tommy example--movies_df.sort_values('added_gap', ascending=False).head()"
   ]
  },
  {
   "cell_type": "code",
   "execution_count": null,
   "id": "898e30b8",
   "metadata": {},
   "outputs": [
    {
     "name": "stdout",
     "output_type": "stream",
     "text": [
      "Movie with greatest gap: Steamboat Willie\n",
      "Average gap: 21.181634712411704\n"
     ]
    },
    {
     "name": "stderr",
     "output_type": "stream",
     "text": [
      "C:\\Users\\Newforce\\AppData\\Local\\Temp\\ipykernel_22928\\981214960.py:5: SettingWithCopyWarning: \n",
      "A value is trying to be set on a copy of a slice from a DataFrame.\n",
      "Try using .loc[row_indexer,col_indexer] = value instead\n",
      "\n",
      "See the caveats in the documentation: https://pandas.pydata.org/pandas-docs/stable/user_guide/indexing.html#returning-a-view-versus-a-copy\n",
      "  movies_df['date_added'] = pd.to_datetime(movies_df['date_added'], errors='coerce')\n",
      "C:\\Users\\Newforce\\AppData\\Local\\Temp\\ipykernel_22928\\981214960.py:8: SettingWithCopyWarning: \n",
      "A value is trying to be set on a copy of a slice from a DataFrame.\n",
      "Try using .loc[row_indexer,col_indexer] = value instead\n",
      "\n",
      "See the caveats in the documentation: https://pandas.pydata.org/pandas-docs/stable/user_guide/indexing.html#returning-a-view-versus-a-copy\n",
      "  movies_df['year_gap'] = movies_df['date_added'].dt.year - movies_df['release_year']\n"
     ]
    }
   ],
   "source": [
    "# Convert 'date_added' to datetime\n",
    "movies_df['date_added'] = pd.to_datetime(movies_df['date_added'], errors='coerce')\n",
    "\n",
    "# Calculate the gap\n",
    "movies_df['year_gap'] = movies_df['date_added'].dt.year - movies_df['release_year']\n",
    "\n",
    "# Movie with greatest gap\n",
    "max_gap_movie = movies_df.loc[movies_df['year_gap'].idxmax()]\n",
    "\n",
    "# Average gap\n",
    "avg_gap = movies_df['year_gap'].mean()\n",
    "\n",
    "print('Movie with greatest gap:', max_gap_movie['title'])\n",
    "print('Average gap:', avg_gap)"
   ]
  },
  {
   "cell_type": "markdown",
   "id": "2edff4fb",
   "metadata": {},
   "source": [
    "13) How many movies were added during the first year after the pandemic\n",
    "lockdown? (Assume the lockdown began on March 16, 2020)"
   ]
  },
  {
   "cell_type": "code",
   "execution_count": null,
   "id": "b0030b7c",
   "metadata": {},
   "outputs": [
    {
     "name": "stdout",
     "output_type": "stream",
     "text": [
      "Movies added in first year after lockdown: 211\n"
     ]
    }
   ],
   "source": [
    "# Tommy example--len(movies_df.loc[(movies_df.date_added >= '03-16-2020') & (movies_df.date_added <= '03-16-2021')])\n",
    "\n",
    "# Define the lockdown period\n",
    "lockdown_start = pd.to_datetime('2020-03-16')\n",
    "lockdown_end = pd.to_datetime('2021-03-16')\n",
    "\n",
    "# Filter movies added in that period\n",
    "movies_after_lockdown = movies_df[(movies_df['date_added'] >= lockdown_start) & (movies_df['date_added'] < lockdown_end)]\n",
    "\n",
    "# Count them\n",
    "print('Movies added in first year after lockdown:', len(movies_after_lockdown))"
   ]
  },
  {
   "cell_type": "markdown",
   "id": "49608d0f",
   "metadata": {},
   "source": [
    "14) Was any movie added on your birthday last year?"
   ]
  },
  {
   "cell_type": "code",
   "execution_count": 25,
   "id": "49eddd6b",
   "metadata": {},
   "outputs": [
    {
     "name": "stdout",
     "output_type": "stream",
     "text": [
      "Movies added on your birthday last year:\n",
      "Empty DataFrame\n",
      "Columns: [title, date_added]\n",
      "Index: []\n"
     ]
    }
   ],
   "source": [
    "# Tommy example--movies_df.added_gap.describe()\n",
    "\n",
    "# Replace with your birthday last year\n",
    "my_birthday_last_year = pd.to_datetime('2024-02-18')\n",
    "\n",
    "# Filter movies added on that exact date\n",
    "movie_on_bday = movies_df[movies_df['date_added'] == my_birthday_last_year]\n",
    "\n",
    "print('Movies added on your birthday last year:')\n",
    "print(movie_on_bday[['title', 'date_added']])"
   ]
  },
  {
   "cell_type": "markdown",
   "id": "e7e22b9c",
   "metadata": {},
   "source": [
    "15) How many TV shows or Movies have the word 'dog' in the title regardless if\n",
    "it is capitalized?"
   ]
  },
  {
   "cell_type": "code",
   "execution_count": 26,
   "id": "9af222b4",
   "metadata": {},
   "outputs": [
    {
     "name": "stdout",
     "output_type": "stream",
     "text": [
      "19\n"
     ]
    }
   ],
   "source": [
    "# Find movies or shows with 'dog' in title\n",
    "dog_titles = disney[disney['title'].str.contains('dog', case=False)]\n",
    "print(len(dog_titles))"
   ]
  }
 ],
 "metadata": {
  "kernelspec": {
   "display_name": "base",
   "language": "python",
   "name": "python3"
  },
  "language_info": {
   "codemirror_mode": {
    "name": "ipython",
    "version": 3
   },
   "file_extension": ".py",
   "mimetype": "text/x-python",
   "name": "python",
   "nbconvert_exporter": "python",
   "pygments_lexer": "ipython3",
   "version": "3.13.5"
  }
 },
 "nbformat": 4,
 "nbformat_minor": 5
}
